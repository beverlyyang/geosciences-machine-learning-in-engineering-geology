{
 "cells": [
  {
   "cell_type": "markdown",
   "id": "35d74a2a",
   "metadata": {},
   "source": [
    "# Model 8b - MLPClassifier with standardization & hyperparameter tuning (5-fold cross-validation)"
   ]
  },
  {
   "cell_type": "code",
   "execution_count": 1,
   "id": "41bcbded",
   "metadata": {},
   "outputs": [],
   "source": [
    "# import packages\n",
    "import numpy as np\n",
    "import pandas as pd\n",
    "import matplotlib.pyplot as plt\n",
    "import scipy.stats\n",
    "import math\n",
    "import os\n",
    "\n",
    "from sklearn.preprocessing import StandardScaler\n",
    "from sklearn.model_selection import RandomizedSearchCV, train_test_split, cross_validate, GridSearchCV\n",
    "from sklearn.neural_network import MLPClassifier\n",
    "from sklearn.pipeline import make_pipeline\n",
    "from sklearn.metrics import mean_absolute_percentage_error, mean_squared_error, f1_score, r2_score\n",
    "\n",
    "from openpyxl import load_workbook"
   ]
  },
  {
   "cell_type": "code",
   "execution_count": 2,
   "id": "8146d919",
   "metadata": {},
   "outputs": [
    {
     "data": {
      "text/html": [
       "<div>\n",
       "<style scoped>\n",
       "    .dataframe tbody tr th:only-of-type {\n",
       "        vertical-align: middle;\n",
       "    }\n",
       "\n",
       "    .dataframe tbody tr th {\n",
       "        vertical-align: top;\n",
       "    }\n",
       "\n",
       "    .dataframe thead th {\n",
       "        text-align: right;\n",
       "    }\n",
       "</style>\n",
       "<table border=\"1\" class=\"dataframe\">\n",
       "  <thead>\n",
       "    <tr style=\"text-align: right;\">\n",
       "      <th></th>\n",
       "      <th>Wedge ID</th>\n",
       "      <th>Safety Factor</th>\n",
       "      <th>Ln Safety Factor</th>\n",
       "      <th>Safety Factor Class</th>\n",
       "      <th>Safety Factor Class_1</th>\n",
       "      <th>Safety Factor Class_2</th>\n",
       "      <th>Ln Safety Factor Class_2</th>\n",
       "      <th>Wedge Volume (m3)</th>\n",
       "      <th>Wedge Weight (MN)</th>\n",
       "      <th>Plunge Line of Intersection (°)</th>\n",
       "      <th>...</th>\n",
       "      <th>Water Pressure Joint 2 (MPa)</th>\n",
       "      <th>Water Pressure Basal Joint (MPa)</th>\n",
       "      <th>Water Pressure Tension Crack (MPa)</th>\n",
       "      <th>Ponded Water Depth (m)</th>\n",
       "      <th>Seismic Alpha</th>\n",
       "      <th>Seismic Plunge (°)</th>\n",
       "      <th>Seismic Trend (°)</th>\n",
       "      <th>Maximum Persistence Joint 1 (m)</th>\n",
       "      <th>Maximum Persistence Joint 2 (m)</th>\n",
       "      <th>Maximum Persistence Basal Joint (m)</th>\n",
       "    </tr>\n",
       "  </thead>\n",
       "  <tbody>\n",
       "    <tr>\n",
       "      <th>0</th>\n",
       "      <td>BFA 60 [0]</td>\n",
       "      <td>1.082239</td>\n",
       "      <td>0.079032</td>\n",
       "      <td>11.0</td>\n",
       "      <td>6.0</td>\n",
       "      <td>1.05</td>\n",
       "      <td>0.038481</td>\n",
       "      <td>6349.248707</td>\n",
       "      <td>171.429715</td>\n",
       "      <td>31.846178</td>\n",
       "      <td>...</td>\n",
       "      <td>NaN</td>\n",
       "      <td>NaN</td>\n",
       "      <td>NaN</td>\n",
       "      <td>NaN</td>\n",
       "      <td>NaN</td>\n",
       "      <td>NaN</td>\n",
       "      <td>NaN</td>\n",
       "      <td>0</td>\n",
       "      <td>0</td>\n",
       "      <td>NaN</td>\n",
       "    </tr>\n",
       "    <tr>\n",
       "      <th>1</th>\n",
       "      <td>BFA 60 [1]</td>\n",
       "      <td>1.203906</td>\n",
       "      <td>0.185571</td>\n",
       "      <td>13.0</td>\n",
       "      <td>7.0</td>\n",
       "      <td>1.35</td>\n",
       "      <td>0.293893</td>\n",
       "      <td>7701.148241</td>\n",
       "      <td>207.931003</td>\n",
       "      <td>31.905513</td>\n",
       "      <td>...</td>\n",
       "      <td>NaN</td>\n",
       "      <td>NaN</td>\n",
       "      <td>NaN</td>\n",
       "      <td>NaN</td>\n",
       "      <td>NaN</td>\n",
       "      <td>NaN</td>\n",
       "      <td>NaN</td>\n",
       "      <td>0</td>\n",
       "      <td>0</td>\n",
       "      <td>NaN</td>\n",
       "    </tr>\n",
       "    <tr>\n",
       "      <th>2</th>\n",
       "      <td>BFA 60 [2]</td>\n",
       "      <td>0.896601</td>\n",
       "      <td>-0.109144</td>\n",
       "      <td>9.0</td>\n",
       "      <td>5.0</td>\n",
       "      <td>0.75</td>\n",
       "      <td>-0.308093</td>\n",
       "      <td>2341.641868</td>\n",
       "      <td>63.224330</td>\n",
       "      <td>36.973415</td>\n",
       "      <td>...</td>\n",
       "      <td>NaN</td>\n",
       "      <td>NaN</td>\n",
       "      <td>NaN</td>\n",
       "      <td>NaN</td>\n",
       "      <td>NaN</td>\n",
       "      <td>NaN</td>\n",
       "      <td>NaN</td>\n",
       "      <td>0</td>\n",
       "      <td>0</td>\n",
       "      <td>NaN</td>\n",
       "    </tr>\n",
       "    <tr>\n",
       "      <th>3</th>\n",
       "      <td>BFA 60 [3]</td>\n",
       "      <td>0.680996</td>\n",
       "      <td>-0.384199</td>\n",
       "      <td>7.0</td>\n",
       "      <td>4.0</td>\n",
       "      <td>0.75</td>\n",
       "      <td>-0.308093</td>\n",
       "      <td>155.345062</td>\n",
       "      <td>4.194317</td>\n",
       "      <td>54.969435</td>\n",
       "      <td>...</td>\n",
       "      <td>NaN</td>\n",
       "      <td>NaN</td>\n",
       "      <td>NaN</td>\n",
       "      <td>NaN</td>\n",
       "      <td>NaN</td>\n",
       "      <td>NaN</td>\n",
       "      <td>NaN</td>\n",
       "      <td>0</td>\n",
       "      <td>0</td>\n",
       "      <td>NaN</td>\n",
       "    </tr>\n",
       "    <tr>\n",
       "      <th>4</th>\n",
       "      <td>BFA 60 [4]</td>\n",
       "      <td>1.263948</td>\n",
       "      <td>0.234240</td>\n",
       "      <td>13.0</td>\n",
       "      <td>7.0</td>\n",
       "      <td>1.35</td>\n",
       "      <td>0.293893</td>\n",
       "      <td>7468.340623</td>\n",
       "      <td>201.645197</td>\n",
       "      <td>29.688564</td>\n",
       "      <td>...</td>\n",
       "      <td>NaN</td>\n",
       "      <td>NaN</td>\n",
       "      <td>NaN</td>\n",
       "      <td>NaN</td>\n",
       "      <td>NaN</td>\n",
       "      <td>NaN</td>\n",
       "      <td>NaN</td>\n",
       "      <td>0</td>\n",
       "      <td>0</td>\n",
       "      <td>NaN</td>\n",
       "    </tr>\n",
       "  </tbody>\n",
       "</table>\n",
       "<p>5 rows × 92 columns</p>\n",
       "</div>"
      ],
      "text/plain": [
       "     Wedge ID  Safety Factor  Ln Safety Factor  Safety Factor Class  \\\n",
       "0  BFA 60 [0]       1.082239          0.079032                 11.0   \n",
       "1  BFA 60 [1]       1.203906          0.185571                 13.0   \n",
       "2  BFA 60 [2]       0.896601         -0.109144                  9.0   \n",
       "3  BFA 60 [3]       0.680996         -0.384199                  7.0   \n",
       "4  BFA 60 [4]       1.263948          0.234240                 13.0   \n",
       "\n",
       "   Safety Factor Class_1  Safety Factor Class_2  Ln Safety Factor Class_2  \\\n",
       "0                    6.0                   1.05                  0.038481   \n",
       "1                    7.0                   1.35                  0.293893   \n",
       "2                    5.0                   0.75                 -0.308093   \n",
       "3                    4.0                   0.75                 -0.308093   \n",
       "4                    7.0                   1.35                  0.293893   \n",
       "\n",
       "   Wedge Volume (m3)  Wedge Weight (MN)  Plunge Line of Intersection (°)  ...  \\\n",
       "0        6349.248707         171.429715                        31.846178  ...   \n",
       "1        7701.148241         207.931003                        31.905513  ...   \n",
       "2        2341.641868          63.224330                        36.973415  ...   \n",
       "3         155.345062           4.194317                        54.969435  ...   \n",
       "4        7468.340623         201.645197                        29.688564  ...   \n",
       "\n",
       "   Water Pressure Joint 2 (MPa)  Water Pressure Basal Joint (MPa)  \\\n",
       "0                           NaN                               NaN   \n",
       "1                           NaN                               NaN   \n",
       "2                           NaN                               NaN   \n",
       "3                           NaN                               NaN   \n",
       "4                           NaN                               NaN   \n",
       "\n",
       "   Water Pressure Tension Crack (MPa)  Ponded Water Depth (m)  Seismic Alpha  \\\n",
       "0                                 NaN                     NaN            NaN   \n",
       "1                                 NaN                     NaN            NaN   \n",
       "2                                 NaN                     NaN            NaN   \n",
       "3                                 NaN                     NaN            NaN   \n",
       "4                                 NaN                     NaN            NaN   \n",
       "\n",
       "   Seismic Plunge (°)  Seismic Trend (°)  Maximum Persistence Joint 1 (m)  \\\n",
       "0                 NaN                NaN                                0   \n",
       "1                 NaN                NaN                                0   \n",
       "2                 NaN                NaN                                0   \n",
       "3                 NaN                NaN                                0   \n",
       "4                 NaN                NaN                                0   \n",
       "\n",
       "   Maximum Persistence Joint 2 (m)  Maximum Persistence Basal Joint (m)  \n",
       "0                                0                                  NaN  \n",
       "1                                0                                  NaN  \n",
       "2                                0                                  NaN  \n",
       "3                                0                                  NaN  \n",
       "4                                0                                  NaN  \n",
       "\n",
       "[5 rows x 92 columns]"
      ]
     },
     "execution_count": 2,
     "metadata": {},
     "output_type": "execute_result"
    }
   ],
   "source": [
    "# get data\n",
    "parentdir = os.path.dirname(os.getcwd())\n",
    "data = pd.read_excel(parentdir+'\\\\Data\\\\SWedge Results.xlsx',sheet_name = \"Probabilistic Values\", engine='openpyxl')\n",
    "data.head()"
   ]
  },
  {
   "cell_type": "code",
   "execution_count": 3,
   "id": "d6103321",
   "metadata": {},
   "outputs": [
    {
     "name": "stdout",
     "output_type": "stream",
     "text": [
      "(5000, 92)\n"
     ]
    }
   ],
   "source": [
    "print(np.shape(data))"
   ]
  },
  {
   "cell_type": "code",
   "execution_count": 4,
   "id": "d63b116c",
   "metadata": {},
   "outputs": [
    {
     "name": "stdout",
     "output_type": "stream",
     "text": [
      "(5000, 9)\n"
     ]
    },
    {
     "data": {
      "text/html": [
       "<div>\n",
       "<style scoped>\n",
       "    .dataframe tbody tr th:only-of-type {\n",
       "        vertical-align: middle;\n",
       "    }\n",
       "\n",
       "    .dataframe tbody tr th {\n",
       "        vertical-align: top;\n",
       "    }\n",
       "\n",
       "    .dataframe thead th {\n",
       "        text-align: right;\n",
       "    }\n",
       "</style>\n",
       "<table border=\"1\" class=\"dataframe\">\n",
       "  <thead>\n",
       "    <tr style=\"text-align: right;\">\n",
       "      <th></th>\n",
       "      <th>Safety Factor Class_2</th>\n",
       "      <th>Dip of Joint 1 (°)</th>\n",
       "      <th>Dip Direction of Joint 1 (°)</th>\n",
       "      <th>Dip of Joint 2 (°)</th>\n",
       "      <th>Dip Direction of Joint 2 (°)</th>\n",
       "      <th>Dip of Slope (°)</th>\n",
       "      <th>Dip Direction of Slope (°)</th>\n",
       "      <th>Friction Angle of Joint 1 (°)</th>\n",
       "      <th>Friction Angle of Joint 2 (°)</th>\n",
       "    </tr>\n",
       "  </thead>\n",
       "  <tbody>\n",
       "    <tr>\n",
       "      <th>0</th>\n",
       "      <td>1.05</td>\n",
       "      <td>39.265808</td>\n",
       "      <td>120.865923</td>\n",
       "      <td>51.646228</td>\n",
       "      <td>221.979277</td>\n",
       "      <td>58.840543</td>\n",
       "      <td>182.626968</td>\n",
       "      <td>29.567773</td>\n",
       "      <td>29.522638</td>\n",
       "    </tr>\n",
       "    <tr>\n",
       "      <th>1</th>\n",
       "      <td>1.35</td>\n",
       "      <td>38.981309</td>\n",
       "      <td>128.836961</td>\n",
       "      <td>57.766382</td>\n",
       "      <td>235.428421</td>\n",
       "      <td>63.804918</td>\n",
       "      <td>181.820235</td>\n",
       "      <td>32.713619</td>\n",
       "      <td>29.079492</td>\n",
       "    </tr>\n",
       "    <tr>\n",
       "      <th>2</th>\n",
       "      <td>0.75</td>\n",
       "      <td>42.032968</td>\n",
       "      <td>117.504566</td>\n",
       "      <td>62.427355</td>\n",
       "      <td>217.726775</td>\n",
       "      <td>58.134485</td>\n",
       "      <td>180.398207</td>\n",
       "      <td>29.660213</td>\n",
       "      <td>27.455866</td>\n",
       "    </tr>\n",
       "    <tr>\n",
       "      <th>3</th>\n",
       "      <td>0.75</td>\n",
       "      <td>69.264568</td>\n",
       "      <td>137.906910</td>\n",
       "      <td>66.183726</td>\n",
       "      <td>246.195109</td>\n",
       "      <td>61.968796</td>\n",
       "      <td>182.439496</td>\n",
       "      <td>30.866657</td>\n",
       "      <td>34.401616</td>\n",
       "    </tr>\n",
       "    <tr>\n",
       "      <th>4</th>\n",
       "      <td>1.35</td>\n",
       "      <td>46.728166</td>\n",
       "      <td>121.226945</td>\n",
       "      <td>50.803809</td>\n",
       "      <td>241.060589</td>\n",
       "      <td>60.832522</td>\n",
       "      <td>179.091174</td>\n",
       "      <td>28.789453</td>\n",
       "      <td>28.613525</td>\n",
       "    </tr>\n",
       "  </tbody>\n",
       "</table>\n",
       "</div>"
      ],
      "text/plain": [
       "   Safety Factor Class_2  Dip of Joint 1 (°)  Dip Direction of Joint 1 (°)  \\\n",
       "0                   1.05           39.265808                    120.865923   \n",
       "1                   1.35           38.981309                    128.836961   \n",
       "2                   0.75           42.032968                    117.504566   \n",
       "3                   0.75           69.264568                    137.906910   \n",
       "4                   1.35           46.728166                    121.226945   \n",
       "\n",
       "   Dip of Joint 2 (°)  Dip Direction of Joint 2 (°)  Dip of Slope (°)  \\\n",
       "0           51.646228                    221.979277         58.840543   \n",
       "1           57.766382                    235.428421         63.804918   \n",
       "2           62.427355                    217.726775         58.134485   \n",
       "3           66.183726                    246.195109         61.968796   \n",
       "4           50.803809                    241.060589         60.832522   \n",
       "\n",
       "   Dip Direction of Slope (°)  Friction Angle of Joint 1 (°)  \\\n",
       "0                  182.626968                      29.567773   \n",
       "1                  181.820235                      32.713619   \n",
       "2                  180.398207                      29.660213   \n",
       "3                  182.439496                      30.866657   \n",
       "4                  179.091174                      28.789453   \n",
       "\n",
       "   Friction Angle of Joint 2 (°)  \n",
       "0                      29.522638  \n",
       "1                      29.079492  \n",
       "2                      27.455866  \n",
       "3                      34.401616  \n",
       "4                      28.613525  "
      ]
     },
     "execution_count": 4,
     "metadata": {},
     "output_type": "execute_result"
    }
   ],
   "source": [
    "# get data specifically for the modelling (i.e., the inputs and output)\n",
    "data_model = data[[\"Safety Factor Class_2\",\"Dip of Joint 1 (°)\",\"Dip Direction of Joint 1 (°)\",\"Dip of Joint 2 (°)\",\"Dip Direction of Joint 2 (°)\",\"Dip of Slope (°)\",\"Dip Direction of Slope (°)\",\"Friction Angle of Joint 1 (°)\",\"Friction Angle of Joint 2 (°)\"]]\n",
    "print(np.shape(data_model))\n",
    "data_model.head()"
   ]
  },
  {
   "cell_type": "code",
   "execution_count": 5,
   "id": "0cae351b",
   "metadata": {},
   "outputs": [
    {
     "name": "stdout",
     "output_type": "stream",
     "text": [
      "(4992, 9)\n"
     ]
    }
   ],
   "source": [
    "# remove any realizations that are not kinematically possible and any duplicates\n",
    "data_model =  data_model.dropna()\n",
    "data_model = data_model.drop_duplicates()\n",
    "print(np.shape(data_model))"
   ]
  },
  {
   "cell_type": "code",
   "execution_count": 6,
   "id": "cf8ca463",
   "metadata": {},
   "outputs": [],
   "source": [
    "data_model['Safety Factor Class_2'] = data_model['Safety Factor Class_2'].apply(str)"
   ]
  },
  {
   "cell_type": "markdown",
   "id": "6f792917",
   "metadata": {},
   "source": [
    "### Hyperparameter tuning"
   ]
  },
  {
   "cell_type": "code",
   "execution_count": 7,
   "id": "71fcf46c",
   "metadata": {},
   "outputs": [
    {
     "name": "stdout",
     "output_type": "stream",
     "text": [
      "{'mlpclassifier__hidden_layer_sizes': [(10,), (15,), (20,), (10, 10), (15, 10), (20, 10)], 'mlpclassifier__activation': ['tanh', 'relu'], 'mlpclassifier__solver': ['sgd', 'adam'], 'mlpclassifier__alpha': [0.0001, 0.001, 0.01, 0.1, 1], 'mlpclassifier__learning_rate_init': [0.001, 0.01, 0.1], 'mlpclassifier__max_iter': [200, 500]}\n"
     ]
    }
   ],
   "source": [
    "# hyperparameter grid for MLPClassifier\n",
    "# number of neurons in hidden layer(s)\n",
    "# note: 1 hidden layer - > (x,), 2 hidden layers -> (x,y), 3 hidden layers -> (x,y,z), etc\n",
    "hidden_layer_sizes = [(10,),(15,),(20,),(10,10),(15,10),(20,10)]\n",
    "\n",
    "# activation function for hidden layer\n",
    "activation = ['tanh','relu']\n",
    "\n",
    "# solver for weight optimization\n",
    "solver = ['sgd','adam']\n",
    "\n",
    "# alpha (strength of L2 regularization term)\n",
    "# https://scikit-learn.org/stable/auto_examples/neural_networks/plot_mlp_alpha.html\n",
    "alpha = [0.0001,0.001,0.01,0.1,1]\n",
    "\n",
    "# initial learning rate\n",
    "learning_rate_init = [0.001,0.01,0.1]\n",
    "\n",
    "# maximum number of iterations\n",
    "max_iter = [200,500]\n",
    "\n",
    "\n",
    "# create the random grid\n",
    "param_grid = {'mlpclassifier__hidden_layer_sizes': hidden_layer_sizes,\n",
    "              'mlpclassifier__activation': activation,\n",
    "              'mlpclassifier__solver': solver,\n",
    "              'mlpclassifier__alpha': alpha,\n",
    "              'mlpclassifier__learning_rate_init': learning_rate_init,\n",
    "              'mlpclassifier__max_iter': max_iter}\n",
    "\n",
    "print(param_grid)"
   ]
  },
  {
   "cell_type": "code",
   "execution_count": 8,
   "id": "07d1ea35",
   "metadata": {},
   "outputs": [],
   "source": [
    "# random_state=123, early_stopping=True, validation_fraction=0.2\n",
    "\n",
    "# function to get train & test R2 and RMSE for specified dataset size where hyperparameter tuning was performed\n",
    "def hyperparam_results(data, dataset_size, param_grid):\n",
    "    random_state_val = [0,1,42,123]\n",
    "    param_grid = param_grid\n",
    "    \n",
    "    accuracy_train_subsample_list = []\n",
    "    f1_train_subsample_list = []\n",
    "    accuracy_test_subsample_list = []\n",
    "    f1_test_subsample_list = []\n",
    "\n",
    "    r2_train_subsample_list = []\n",
    "    r2_test_subsample_list = []\n",
    "    rmse_train_subsample_list = []\n",
    "    rmse_test_subsample_list = []\n",
    "\n",
    "\n",
    "    for x in range(0,4):\n",
    "        # get subsample of data\n",
    "        data_subsample = data_model.sample(n = dataset_size,random_state = 1)\n",
    "\n",
    "        # train/test split with different random_state values (0, 1, 42, and 123)\n",
    "        train_subsample, test_subsample = train_test_split(data_subsample, test_size=0.2, random_state=random_state_val[x])\n",
    "\n",
    "        x_train_subsample = train_subsample[[\"Dip of Joint 1 (°)\",\"Dip Direction of Joint 1 (°)\",\"Dip of Joint 2 (°)\",\"Dip Direction of Joint 2 (°)\",\"Dip of Slope (°)\",\"Dip Direction of Slope (°)\",\"Friction Angle of Joint 1 (°)\",\"Friction Angle of Joint 2 (°)\"]]\n",
    "        y_train_subsample = train_subsample[[\"Safety Factor Class_2\"]]\n",
    "        y_train_subsample = np.ravel(y_train_subsample)\n",
    "        \n",
    "        x_test_subsample = test_subsample[[\"Dip of Joint 1 (°)\",\"Dip Direction of Joint 1 (°)\",\"Dip of Joint 2 (°)\",\"Dip Direction of Joint 2 (°)\",\"Dip of Slope (°)\",\"Dip Direction of Slope (°)\",\"Friction Angle of Joint 1 (°)\",\"Friction Angle of Joint 2 (°)\"]]\n",
    "        y_test_subsample = test_subsample[[\"Safety Factor Class_2\"]].values\n",
    "        y_test_subsample = np.ravel(y_test_subsample)\n",
    "\n",
    "        # train mlp model with hyperparameter tuning (5-fold cross-validation w/ randomized search)\n",
    "        # make pipeline for mlp with pre-processing (standardizing the data)\n",
    "        pipe_mlp = make_pipeline(StandardScaler(), MLPClassifier(random_state = 123,early_stopping=True,validation_fraction=0.2))\n",
    "        random_search = RandomizedSearchCV(estimator=pipe_mlp, param_distributions=param_grid,n_iter=100, n_jobs=-1,cv=5,random_state=123)\n",
    "\n",
    "        random_search.fit(x_train_subsample, y_train_subsample)\n",
    "        \n",
    "        ypred_mlp = random_search.predict(x_train_subsample)\n",
    "        ypred_mlp = np.reshape(ypred_mlp,(len(ypred_mlp),1))\n",
    "\n",
    "        # training accuracy, f1, r2, and rmse\n",
    "        accuracy_train_subsample = random_search.score(x_train_subsample,y_train_subsample)\n",
    "        f1_train_subsample = f1_score(y_train_subsample,ypred_mlp,average='macro')\n",
    "\n",
    "        r2_train_subsample = r2_score(y_train_subsample,ypred_mlp)\n",
    "        rmse_train_subsample = math.sqrt(mean_squared_error(y_train_subsample,ypred_mlp))\n",
    "        \n",
    "        # append training accuracy, f1, r2, and rmse to their respective lists\n",
    "        accuracy_train_subsample_list.append(accuracy_train_subsample)\n",
    "        f1_train_subsample_list.append(f1_train_subsample)\n",
    "       \n",
    "        r2_train_subsample_list.append(r2_train_subsample)\n",
    "        rmse_train_subsample_list.append(rmse_train_subsample)\n",
    "    \n",
    "        # test the tuned mlp model\n",
    "        # predict y test\n",
    "        ypred_test_mlp = random_search.predict(x_test_subsample)\n",
    "        ypred_test_mlp = np.reshape(ypred_test_mlp,(len(ypred_test_mlp),1))\n",
    "\n",
    "        # test accuracy, f1, r2, and rmse\n",
    "        accuracy_test_subsample = random_search.score(x_test_subsample,y_test_subsample)\n",
    "        f1_test_subsample = f1_score(y_test_subsample,ypred_test_mlp,average='macro')\n",
    "\n",
    "        r2_test_subsample = r2_score(y_test_subsample,ypred_test_mlp)\n",
    "        rmse_test_subsample = math.sqrt(mean_squared_error(y_test_subsample,ypred_test_mlp))\n",
    "        \n",
    "        # append test accuracy, f1, r2, and rmse to their respective lists\n",
    "        accuracy_test_subsample_list.append(accuracy_test_subsample)\n",
    "        f1_test_subsample_list.append(f1_test_subsample)\n",
    "        \n",
    "        r2_test_subsample_list.append(r2_test_subsample)\n",
    "        rmse_test_subsample_list.append(rmse_test_subsample)\n",
    "        \n",
    "    return accuracy_train_subsample_list, f1_train_subsample_list, r2_train_subsample_list, rmse_train_subsample_list, accuracy_test_subsample_list, f1_test_subsample_list, r2_test_subsample_list, rmse_test_subsample_list\n",
    "    "
   ]
  },
  {
   "cell_type": "code",
   "execution_count": 9,
   "id": "fa1e1cca",
   "metadata": {},
   "outputs": [
    {
     "name": "stderr",
     "output_type": "stream",
     "text": [
      "C:\\Users\\bever\\anaconda3\\lib\\site-packages\\sklearn\\model_selection\\_split.py:676: UserWarning: The least populated class in y has only 1 members, which is less than n_splits=5.\n",
      "  warnings.warn(\n",
      "C:\\Users\\bever\\anaconda3\\lib\\site-packages\\sklearn\\metrics\\_regression.py:96: FutureWarning: Arrays of bytes/strings is being converted to decimal numbers if dtype='numeric'. This behavior is deprecated in 0.24 and will be removed in 1.1 (renaming of 0.26). Please convert your data to numeric values explicitly instead.\n",
      "  y_pred = check_array(y_pred, ensure_2d=False, dtype=dtype)\n",
      "C:\\Users\\bever\\anaconda3\\lib\\site-packages\\sklearn\\metrics\\_regression.py:96: FutureWarning: Arrays of bytes/strings is being converted to decimal numbers if dtype='numeric'. This behavior is deprecated in 0.24 and will be removed in 1.1 (renaming of 0.26). Please convert your data to numeric values explicitly instead.\n",
      "  y_pred = check_array(y_pred, ensure_2d=False, dtype=dtype)\n",
      "C:\\Users\\bever\\anaconda3\\lib\\site-packages\\sklearn\\metrics\\_regression.py:96: FutureWarning: Arrays of bytes/strings is being converted to decimal numbers if dtype='numeric'. This behavior is deprecated in 0.24 and will be removed in 1.1 (renaming of 0.26). Please convert your data to numeric values explicitly instead.\n",
      "  y_pred = check_array(y_pred, ensure_2d=False, dtype=dtype)\n",
      "C:\\Users\\bever\\anaconda3\\lib\\site-packages\\sklearn\\metrics\\_regression.py:96: FutureWarning: Arrays of bytes/strings is being converted to decimal numbers if dtype='numeric'. This behavior is deprecated in 0.24 and will be removed in 1.1 (renaming of 0.26). Please convert your data to numeric values explicitly instead.\n",
      "  y_pred = check_array(y_pred, ensure_2d=False, dtype=dtype)\n",
      "C:\\Users\\bever\\anaconda3\\lib\\site-packages\\sklearn\\model_selection\\_split.py:676: UserWarning: The least populated class in y has only 2 members, which is less than n_splits=5.\n",
      "  warnings.warn(\n",
      "C:\\Users\\bever\\anaconda3\\lib\\site-packages\\sklearn\\metrics\\_regression.py:96: FutureWarning: Arrays of bytes/strings is being converted to decimal numbers if dtype='numeric'. This behavior is deprecated in 0.24 and will be removed in 1.1 (renaming of 0.26). Please convert your data to numeric values explicitly instead.\n",
      "  y_pred = check_array(y_pred, ensure_2d=False, dtype=dtype)\n",
      "C:\\Users\\bever\\anaconda3\\lib\\site-packages\\sklearn\\metrics\\_regression.py:96: FutureWarning: Arrays of bytes/strings is being converted to decimal numbers if dtype='numeric'. This behavior is deprecated in 0.24 and will be removed in 1.1 (renaming of 0.26). Please convert your data to numeric values explicitly instead.\n",
      "  y_pred = check_array(y_pred, ensure_2d=False, dtype=dtype)\n",
      "C:\\Users\\bever\\anaconda3\\lib\\site-packages\\sklearn\\metrics\\_regression.py:96: FutureWarning: Arrays of bytes/strings is being converted to decimal numbers if dtype='numeric'. This behavior is deprecated in 0.24 and will be removed in 1.1 (renaming of 0.26). Please convert your data to numeric values explicitly instead.\n",
      "  y_pred = check_array(y_pred, ensure_2d=False, dtype=dtype)\n",
      "C:\\Users\\bever\\anaconda3\\lib\\site-packages\\sklearn\\metrics\\_regression.py:96: FutureWarning: Arrays of bytes/strings is being converted to decimal numbers if dtype='numeric'. This behavior is deprecated in 0.24 and will be removed in 1.1 (renaming of 0.26). Please convert your data to numeric values explicitly instead.\n",
      "  y_pred = check_array(y_pred, ensure_2d=False, dtype=dtype)\n",
      "C:\\Users\\bever\\anaconda3\\lib\\site-packages\\sklearn\\model_selection\\_split.py:676: UserWarning: The least populated class in y has only 1 members, which is less than n_splits=5.\n",
      "  warnings.warn(\n",
      "C:\\Users\\bever\\anaconda3\\lib\\site-packages\\sklearn\\metrics\\_regression.py:96: FutureWarning: Arrays of bytes/strings is being converted to decimal numbers if dtype='numeric'. This behavior is deprecated in 0.24 and will be removed in 1.1 (renaming of 0.26). Please convert your data to numeric values explicitly instead.\n",
      "  y_pred = check_array(y_pred, ensure_2d=False, dtype=dtype)\n",
      "C:\\Users\\bever\\anaconda3\\lib\\site-packages\\sklearn\\metrics\\_regression.py:96: FutureWarning: Arrays of bytes/strings is being converted to decimal numbers if dtype='numeric'. This behavior is deprecated in 0.24 and will be removed in 1.1 (renaming of 0.26). Please convert your data to numeric values explicitly instead.\n",
      "  y_pred = check_array(y_pred, ensure_2d=False, dtype=dtype)\n",
      "C:\\Users\\bever\\anaconda3\\lib\\site-packages\\sklearn\\metrics\\_regression.py:96: FutureWarning: Arrays of bytes/strings is being converted to decimal numbers if dtype='numeric'. This behavior is deprecated in 0.24 and will be removed in 1.1 (renaming of 0.26). Please convert your data to numeric values explicitly instead.\n",
      "  y_pred = check_array(y_pred, ensure_2d=False, dtype=dtype)\n",
      "C:\\Users\\bever\\anaconda3\\lib\\site-packages\\sklearn\\metrics\\_regression.py:96: FutureWarning: Arrays of bytes/strings is being converted to decimal numbers if dtype='numeric'. This behavior is deprecated in 0.24 and will be removed in 1.1 (renaming of 0.26). Please convert your data to numeric values explicitly instead.\n",
      "  y_pred = check_array(y_pred, ensure_2d=False, dtype=dtype)\n",
      "C:\\Users\\bever\\anaconda3\\lib\\site-packages\\sklearn\\model_selection\\_split.py:676: UserWarning: The least populated class in y has only 2 members, which is less than n_splits=5.\n",
      "  warnings.warn(\n",
      "C:\\Users\\bever\\anaconda3\\lib\\site-packages\\sklearn\\metrics\\_regression.py:96: FutureWarning: Arrays of bytes/strings is being converted to decimal numbers if dtype='numeric'. This behavior is deprecated in 0.24 and will be removed in 1.1 (renaming of 0.26). Please convert your data to numeric values explicitly instead.\n",
      "  y_pred = check_array(y_pred, ensure_2d=False, dtype=dtype)\n",
      "C:\\Users\\bever\\anaconda3\\lib\\site-packages\\sklearn\\metrics\\_regression.py:96: FutureWarning: Arrays of bytes/strings is being converted to decimal numbers if dtype='numeric'. This behavior is deprecated in 0.24 and will be removed in 1.1 (renaming of 0.26). Please convert your data to numeric values explicitly instead.\n",
      "  y_pred = check_array(y_pred, ensure_2d=False, dtype=dtype)\n",
      "C:\\Users\\bever\\anaconda3\\lib\\site-packages\\sklearn\\metrics\\_regression.py:96: FutureWarning: Arrays of bytes/strings is being converted to decimal numbers if dtype='numeric'. This behavior is deprecated in 0.24 and will be removed in 1.1 (renaming of 0.26). Please convert your data to numeric values explicitly instead.\n",
      "  y_pred = check_array(y_pred, ensure_2d=False, dtype=dtype)\n",
      "C:\\Users\\bever\\anaconda3\\lib\\site-packages\\sklearn\\metrics\\_regression.py:96: FutureWarning: Arrays of bytes/strings is being converted to decimal numbers if dtype='numeric'. This behavior is deprecated in 0.24 and will be removed in 1.1 (renaming of 0.26). Please convert your data to numeric values explicitly instead.\n",
      "  y_pred = check_array(y_pred, ensure_2d=False, dtype=dtype)\n"
     ]
    }
   ],
   "source": [
    "# MLP model results for dataset size = 100 data points\n",
    "accuracy_train_100, f1_train_100, r2_train_100, rmse_train_100, accuracy_test_100, f1_test_100, r2_test_100, rmse_test_100 = hyperparam_results(data_model,100,param_grid)"
   ]
  },
  {
   "cell_type": "code",
   "execution_count": 10,
   "id": "519f0d8b",
   "metadata": {},
   "outputs": [
    {
     "name": "stdout",
     "output_type": "stream",
     "text": [
      "[0.8125, 0.825, 0.95, 0.9]\n",
      "[0.45, 0.5, 0.4, 0.55]\n"
     ]
    }
   ],
   "source": [
    "# training and test accuracy for MLP trained on 100 data points for four different random_state values in train/test split\n",
    "print(accuracy_train_100)\n",
    "print(accuracy_test_100)"
   ]
  },
  {
   "cell_type": "code",
   "execution_count": 11,
   "id": "08e967f0",
   "metadata": {},
   "outputs": [
    {
     "name": "stdout",
     "output_type": "stream",
     "text": [
      "[0.5420677502310155, 0.6410880785880786, 0.7944698510114331, 0.6969327491504911]\n",
      "[0.18727106227106227, 0.21036106750392464, 0.20476190476190473, 0.3068783068783069]\n"
     ]
    }
   ],
   "source": [
    "# training and test f1 for MLP trained on 100 data points for four different random_state values in train/test split\n",
    "print(f1_train_100)\n",
    "print(f1_test_100)"
   ]
  },
  {
   "cell_type": "code",
   "execution_count": 12,
   "id": "27d9716d",
   "metadata": {},
   "outputs": [
    {
     "name": "stdout",
     "output_type": "stream",
     "text": [
      "[0.7594504811890637, 0.7264930343655466, 0.8171177232314025, 0.8792715367301003]\n",
      "[0.3310532722740712, 0.05991855730075668, 0.3684210526315792, 0.7156398104265402]\n"
     ]
    }
   ],
   "source": [
    "# training and test r2 for MLP trained on 100 data points for four different random_state values in train/test split\n",
    "print(r2_train_100)\n",
    "print(r2_test_100)"
   ]
  },
  {
   "cell_type": "code",
   "execution_count": 13,
   "id": "caec0184",
   "metadata": {},
   "outputs": [
    {
     "name": "stdout",
     "output_type": "stream",
     "text": [
      "[0.20432816741702547, 0.2551960031034969, 0.1987460691435179, 0.17175564037317667]\n",
      "[0.5371219600798313, 0.4494441010848846, 0.4189272013130682, 0.23237900077244503]\n"
     ]
    }
   ],
   "source": [
    "# training and test rmse for MLP trained on 100 data points for four different random_state values in train/test split\n",
    "print(rmse_train_100)\n",
    "print(rmse_test_100)"
   ]
  },
  {
   "cell_type": "code",
   "execution_count": 41,
   "id": "47becdd6",
   "metadata": {},
   "outputs": [
    {
     "data": {
      "text/plain": [
       "array([0.3625, 0.325 , 0.55  , 0.35  ])"
      ]
     },
     "execution_count": 41,
     "metadata": {},
     "output_type": "execute_result"
    }
   ],
   "source": [
    "# train - test accuracy for MLP trained on 100 data points for four different random_state values in train/test split\n",
    "accuracy_diff_100 = np.asarray(accuracy_train_100) - np.asarray(accuracy_test_100)\n",
    "accuracy_diff_100"
   ]
  },
  {
   "cell_type": "code",
   "execution_count": 43,
   "id": "f90e447f",
   "metadata": {},
   "outputs": [
    {
     "data": {
      "text/plain": [
       "array([0.35479669, 0.43072701, 0.58970795, 0.39005444])"
      ]
     },
     "execution_count": 43,
     "metadata": {},
     "output_type": "execute_result"
    }
   ],
   "source": [
    "# train - test f1 for MLP trained on 100 data points for four different random_state values in train/test split\n",
    "f1_diff_100 = np.asarray(f1_train_100) - np.asarray(f1_test_100)\n",
    "f1_diff_100"
   ]
  },
  {
   "cell_type": "code",
   "execution_count": 44,
   "id": "6f210eaa",
   "metadata": {},
   "outputs": [
    {
     "data": {
      "text/plain": [
       "array([0.42839721, 0.66657448, 0.44869667, 0.16363173])"
      ]
     },
     "execution_count": 44,
     "metadata": {},
     "output_type": "execute_result"
    }
   ],
   "source": [
    "# train - test r2 for MLP trained on 100 data points for four different random_state values in train/test split\n",
    "r2_diff_100 = np.asarray(r2_train_100) - np.asarray(r2_test_100)\n",
    "r2_diff_100"
   ]
  },
  {
   "cell_type": "code",
   "execution_count": 45,
   "id": "8271290e",
   "metadata": {},
   "outputs": [
    {
     "data": {
      "text/plain": [
       "array([0.33279379, 0.1942481 , 0.22018113, 0.06062336])"
      ]
     },
     "execution_count": 45,
     "metadata": {},
     "output_type": "execute_result"
    }
   ],
   "source": [
    "# test - train rmse for MLP trained on 100 data points for four different random_state values in train/test split\n",
    "rmse_diff_100 = np.asarray(rmse_test_100) - np.asarray(rmse_train_100)\n",
    "rmse_diff_100"
   ]
  },
  {
   "cell_type": "code",
   "execution_count": 14,
   "id": "73c02a31",
   "metadata": {},
   "outputs": [
    {
     "name": "stderr",
     "output_type": "stream",
     "text": [
      "C:\\Users\\bever\\anaconda3\\lib\\site-packages\\sklearn\\model_selection\\_split.py:676: UserWarning: The least populated class in y has only 1 members, which is less than n_splits=5.\n",
      "  warnings.warn(\n",
      "C:\\Users\\bever\\anaconda3\\lib\\site-packages\\sklearn\\metrics\\_regression.py:96: FutureWarning: Arrays of bytes/strings is being converted to decimal numbers if dtype='numeric'. This behavior is deprecated in 0.24 and will be removed in 1.1 (renaming of 0.26). Please convert your data to numeric values explicitly instead.\n",
      "  y_pred = check_array(y_pred, ensure_2d=False, dtype=dtype)\n",
      "C:\\Users\\bever\\anaconda3\\lib\\site-packages\\sklearn\\metrics\\_regression.py:96: FutureWarning: Arrays of bytes/strings is being converted to decimal numbers if dtype='numeric'. This behavior is deprecated in 0.24 and will be removed in 1.1 (renaming of 0.26). Please convert your data to numeric values explicitly instead.\n",
      "  y_pred = check_array(y_pred, ensure_2d=False, dtype=dtype)\n",
      "C:\\Users\\bever\\anaconda3\\lib\\site-packages\\sklearn\\metrics\\_regression.py:96: FutureWarning: Arrays of bytes/strings is being converted to decimal numbers if dtype='numeric'. This behavior is deprecated in 0.24 and will be removed in 1.1 (renaming of 0.26). Please convert your data to numeric values explicitly instead.\n",
      "  y_pred = check_array(y_pred, ensure_2d=False, dtype=dtype)\n",
      "C:\\Users\\bever\\anaconda3\\lib\\site-packages\\sklearn\\metrics\\_regression.py:96: FutureWarning: Arrays of bytes/strings is being converted to decimal numbers if dtype='numeric'. This behavior is deprecated in 0.24 and will be removed in 1.1 (renaming of 0.26). Please convert your data to numeric values explicitly instead.\n",
      "  y_pred = check_array(y_pred, ensure_2d=False, dtype=dtype)\n",
      "C:\\Users\\bever\\anaconda3\\lib\\site-packages\\sklearn\\model_selection\\_split.py:676: UserWarning: The least populated class in y has only 1 members, which is less than n_splits=5.\n",
      "  warnings.warn(\n",
      "C:\\Users\\bever\\anaconda3\\lib\\site-packages\\sklearn\\metrics\\_regression.py:96: FutureWarning: Arrays of bytes/strings is being converted to decimal numbers if dtype='numeric'. This behavior is deprecated in 0.24 and will be removed in 1.1 (renaming of 0.26). Please convert your data to numeric values explicitly instead.\n",
      "  y_pred = check_array(y_pred, ensure_2d=False, dtype=dtype)\n",
      "C:\\Users\\bever\\anaconda3\\lib\\site-packages\\sklearn\\metrics\\_regression.py:96: FutureWarning: Arrays of bytes/strings is being converted to decimal numbers if dtype='numeric'. This behavior is deprecated in 0.24 and will be removed in 1.1 (renaming of 0.26). Please convert your data to numeric values explicitly instead.\n",
      "  y_pred = check_array(y_pred, ensure_2d=False, dtype=dtype)\n",
      "C:\\Users\\bever\\anaconda3\\lib\\site-packages\\sklearn\\metrics\\_regression.py:96: FutureWarning: Arrays of bytes/strings is being converted to decimal numbers if dtype='numeric'. This behavior is deprecated in 0.24 and will be removed in 1.1 (renaming of 0.26). Please convert your data to numeric values explicitly instead.\n",
      "  y_pred = check_array(y_pred, ensure_2d=False, dtype=dtype)\n",
      "C:\\Users\\bever\\anaconda3\\lib\\site-packages\\sklearn\\metrics\\_regression.py:96: FutureWarning: Arrays of bytes/strings is being converted to decimal numbers if dtype='numeric'. This behavior is deprecated in 0.24 and will be removed in 1.1 (renaming of 0.26). Please convert your data to numeric values explicitly instead.\n",
      "  y_pred = check_array(y_pred, ensure_2d=False, dtype=dtype)\n",
      "C:\\Users\\bever\\anaconda3\\lib\\site-packages\\sklearn\\model_selection\\_split.py:676: UserWarning: The least populated class in y has only 1 members, which is less than n_splits=5.\n",
      "  warnings.warn(\n",
      "C:\\Users\\bever\\anaconda3\\lib\\site-packages\\sklearn\\metrics\\_regression.py:96: FutureWarning: Arrays of bytes/strings is being converted to decimal numbers if dtype='numeric'. This behavior is deprecated in 0.24 and will be removed in 1.1 (renaming of 0.26). Please convert your data to numeric values explicitly instead.\n",
      "  y_pred = check_array(y_pred, ensure_2d=False, dtype=dtype)\n",
      "C:\\Users\\bever\\anaconda3\\lib\\site-packages\\sklearn\\metrics\\_regression.py:96: FutureWarning: Arrays of bytes/strings is being converted to decimal numbers if dtype='numeric'. This behavior is deprecated in 0.24 and will be removed in 1.1 (renaming of 0.26). Please convert your data to numeric values explicitly instead.\n",
      "  y_pred = check_array(y_pred, ensure_2d=False, dtype=dtype)\n",
      "C:\\Users\\bever\\anaconda3\\lib\\site-packages\\sklearn\\metrics\\_regression.py:96: FutureWarning: Arrays of bytes/strings is being converted to decimal numbers if dtype='numeric'. This behavior is deprecated in 0.24 and will be removed in 1.1 (renaming of 0.26). Please convert your data to numeric values explicitly instead.\n",
      "  y_pred = check_array(y_pred, ensure_2d=False, dtype=dtype)\n",
      "C:\\Users\\bever\\anaconda3\\lib\\site-packages\\sklearn\\metrics\\_regression.py:96: FutureWarning: Arrays of bytes/strings is being converted to decimal numbers if dtype='numeric'. This behavior is deprecated in 0.24 and will be removed in 1.1 (renaming of 0.26). Please convert your data to numeric values explicitly instead.\n",
      "  y_pred = check_array(y_pred, ensure_2d=False, dtype=dtype)\n",
      "C:\\Users\\bever\\anaconda3\\lib\\site-packages\\sklearn\\model_selection\\_split.py:676: UserWarning: The least populated class in y has only 2 members, which is less than n_splits=5.\n",
      "  warnings.warn(\n",
      "C:\\Users\\bever\\anaconda3\\lib\\site-packages\\sklearn\\metrics\\_regression.py:96: FutureWarning: Arrays of bytes/strings is being converted to decimal numbers if dtype='numeric'. This behavior is deprecated in 0.24 and will be removed in 1.1 (renaming of 0.26). Please convert your data to numeric values explicitly instead.\n",
      "  y_pred = check_array(y_pred, ensure_2d=False, dtype=dtype)\n",
      "C:\\Users\\bever\\anaconda3\\lib\\site-packages\\sklearn\\metrics\\_regression.py:96: FutureWarning: Arrays of bytes/strings is being converted to decimal numbers if dtype='numeric'. This behavior is deprecated in 0.24 and will be removed in 1.1 (renaming of 0.26). Please convert your data to numeric values explicitly instead.\n",
      "  y_pred = check_array(y_pred, ensure_2d=False, dtype=dtype)\n",
      "C:\\Users\\bever\\anaconda3\\lib\\site-packages\\sklearn\\metrics\\_regression.py:96: FutureWarning: Arrays of bytes/strings is being converted to decimal numbers if dtype='numeric'. This behavior is deprecated in 0.24 and will be removed in 1.1 (renaming of 0.26). Please convert your data to numeric values explicitly instead.\n",
      "  y_pred = check_array(y_pred, ensure_2d=False, dtype=dtype)\n",
      "C:\\Users\\bever\\anaconda3\\lib\\site-packages\\sklearn\\metrics\\_regression.py:96: FutureWarning: Arrays of bytes/strings is being converted to decimal numbers if dtype='numeric'. This behavior is deprecated in 0.24 and will be removed in 1.1 (renaming of 0.26). Please convert your data to numeric values explicitly instead.\n",
      "  y_pred = check_array(y_pred, ensure_2d=False, dtype=dtype)\n"
     ]
    }
   ],
   "source": [
    "# MLP model results for dataset size = 150 data points\n",
    "accuracy_train_150, f1_train_150, r2_train_150, rmse_train_150, accuracy_test_150, f1_test_150, r2_test_150, rmse_test_150 = hyperparam_results(data_model,150,param_grid)"
   ]
  },
  {
   "cell_type": "code",
   "execution_count": 15,
   "id": "a94b8316",
   "metadata": {},
   "outputs": [
    {
     "name": "stdout",
     "output_type": "stream",
     "text": [
      "[0.8333333333333334, 0.9, 0.775, 0.9583333333333334]\n",
      "[0.5666666666666667, 0.4666666666666667, 0.6, 0.7]\n"
     ]
    }
   ],
   "source": [
    "# training and test accuracy for MLP trained on 150 data points for four different random_state values in train/test split\n",
    "print(accuracy_train_150)\n",
    "print(accuracy_test_150)"
   ]
  },
  {
   "cell_type": "code",
   "execution_count": 16,
   "id": "fdc52a3a",
   "metadata": {},
   "outputs": [
    {
     "name": "stdout",
     "output_type": "stream",
     "text": [
      "[0.4681241411252576, 0.5533387445887445, 0.4307005494505494, 0.84158141304993]\n",
      "[0.27308006535947715, 0.38936839557957575, 0.3384615384615385, 0.4313840155945419]\n"
     ]
    }
   ],
   "source": [
    "# training and test f1 for MLP trained on 150 data points for four different random_state values in train/test split\n",
    "print(f1_train_150)\n",
    "print(f1_test_150)"
   ]
  },
  {
   "cell_type": "code",
   "execution_count": 17,
   "id": "1bbfb615",
   "metadata": {},
   "outputs": [
    {
     "name": "stdout",
     "output_type": "stream",
     "text": [
      "[0.7546344253930952, 0.9011466982997233, 0.719783332683851, 0.9773049645390071]\n",
      "[0.5501220008133387, 0.6962025316455696, 0.5853052809146713, 0.5770676691729322]\n"
     ]
    }
   ],
   "source": [
    "# training and test r2 for MLP trained on 150 data points for four different random_state values in train/test split\n",
    "print(r2_train_150)\n",
    "print(r2_test_150)"
   ]
  },
  {
   "cell_type": "code",
   "execution_count": 18,
   "id": "db681563",
   "metadata": {},
   "outputs": [
    {
     "name": "stdout",
     "output_type": "stream",
     "text": [
      "[0.20996031371031368, 0.15811388300841894, 0.25478749315197297, 0.07745966692414835]\n",
      "[0.443471156521669, 0.21908902300206645, 0.31358146203711296, 0.21213203435596428]\n"
     ]
    }
   ],
   "source": [
    "# training and test rmse for MLP trained on 150 data points for four different random_state values in train/test split\n",
    "print(rmse_train_150)\n",
    "print(rmse_test_150)"
   ]
  },
  {
   "cell_type": "code",
   "execution_count": 46,
   "id": "75c0d97a",
   "metadata": {},
   "outputs": [
    {
     "data": {
      "text/plain": [
       "array([0.26666667, 0.43333333, 0.175     , 0.25833333])"
      ]
     },
     "execution_count": 46,
     "metadata": {},
     "output_type": "execute_result"
    }
   ],
   "source": [
    "# train - test accuracy for MLP trained on 150 data points for four different random_state values in train/test split\n",
    "accuracy_diff_150 = np.asarray(accuracy_train_150) - np.asarray(accuracy_test_150)\n",
    "accuracy_diff_150"
   ]
  },
  {
   "cell_type": "code",
   "execution_count": 47,
   "id": "2cbccd8f",
   "metadata": {},
   "outputs": [
    {
     "data": {
      "text/plain": [
       "array([0.19504408, 0.16397035, 0.09223901, 0.4101974 ])"
      ]
     },
     "execution_count": 47,
     "metadata": {},
     "output_type": "execute_result"
    }
   ],
   "source": [
    "# train - test f1 for MLP trained on 150 data points for four different random_state values in train/test split\n",
    "f1_diff_150 = np.asarray(f1_train_150) - np.asarray(f1_test_150)\n",
    "f1_diff_150"
   ]
  },
  {
   "cell_type": "code",
   "execution_count": 48,
   "id": "7c3552d1",
   "metadata": {},
   "outputs": [
    {
     "data": {
      "text/plain": [
       "array([0.20451242, 0.20494417, 0.13447805, 0.4002373 ])"
      ]
     },
     "execution_count": 48,
     "metadata": {},
     "output_type": "execute_result"
    }
   ],
   "source": [
    "# train - test r2 for MLP trained on 150 data points for four different random_state values in train/test split\n",
    "r2_diff_150 = np.asarray(r2_train_150) - np.asarray(r2_test_150)\n",
    "r2_diff_150"
   ]
  },
  {
   "cell_type": "code",
   "execution_count": 49,
   "id": "40a1a434",
   "metadata": {},
   "outputs": [
    {
     "data": {
      "text/plain": [
       "array([0.23351084, 0.06097514, 0.05879397, 0.13467237])"
      ]
     },
     "execution_count": 49,
     "metadata": {},
     "output_type": "execute_result"
    }
   ],
   "source": [
    "# test - train rmse for MLP trained on 150 data points for four different random_state values in train/test split\n",
    "rmse_diff_150 = np.asarray(rmse_test_150) - np.asarray(rmse_train_150)\n",
    "rmse_diff_150"
   ]
  },
  {
   "cell_type": "code",
   "execution_count": 19,
   "id": "cd73f42f",
   "metadata": {},
   "outputs": [
    {
     "name": "stderr",
     "output_type": "stream",
     "text": [
      "C:\\Users\\bever\\anaconda3\\lib\\site-packages\\sklearn\\model_selection\\_split.py:676: UserWarning: The least populated class in y has only 1 members, which is less than n_splits=5.\n",
      "  warnings.warn(\n",
      "C:\\Users\\bever\\anaconda3\\lib\\site-packages\\sklearn\\metrics\\_regression.py:96: FutureWarning: Arrays of bytes/strings is being converted to decimal numbers if dtype='numeric'. This behavior is deprecated in 0.24 and will be removed in 1.1 (renaming of 0.26). Please convert your data to numeric values explicitly instead.\n",
      "  y_pred = check_array(y_pred, ensure_2d=False, dtype=dtype)\n",
      "C:\\Users\\bever\\anaconda3\\lib\\site-packages\\sklearn\\metrics\\_regression.py:96: FutureWarning: Arrays of bytes/strings is being converted to decimal numbers if dtype='numeric'. This behavior is deprecated in 0.24 and will be removed in 1.1 (renaming of 0.26). Please convert your data to numeric values explicitly instead.\n",
      "  y_pred = check_array(y_pred, ensure_2d=False, dtype=dtype)\n",
      "C:\\Users\\bever\\anaconda3\\lib\\site-packages\\sklearn\\metrics\\_regression.py:96: FutureWarning: Arrays of bytes/strings is being converted to decimal numbers if dtype='numeric'. This behavior is deprecated in 0.24 and will be removed in 1.1 (renaming of 0.26). Please convert your data to numeric values explicitly instead.\n",
      "  y_pred = check_array(y_pred, ensure_2d=False, dtype=dtype)\n",
      "C:\\Users\\bever\\anaconda3\\lib\\site-packages\\sklearn\\metrics\\_regression.py:96: FutureWarning: Arrays of bytes/strings is being converted to decimal numbers if dtype='numeric'. This behavior is deprecated in 0.24 and will be removed in 1.1 (renaming of 0.26). Please convert your data to numeric values explicitly instead.\n",
      "  y_pred = check_array(y_pred, ensure_2d=False, dtype=dtype)\n",
      "C:\\Users\\bever\\anaconda3\\lib\\site-packages\\sklearn\\model_selection\\_split.py:676: UserWarning: The least populated class in y has only 1 members, which is less than n_splits=5.\n",
      "  warnings.warn(\n",
      "C:\\Users\\bever\\anaconda3\\lib\\site-packages\\sklearn\\metrics\\_regression.py:96: FutureWarning: Arrays of bytes/strings is being converted to decimal numbers if dtype='numeric'. This behavior is deprecated in 0.24 and will be removed in 1.1 (renaming of 0.26). Please convert your data to numeric values explicitly instead.\n",
      "  y_pred = check_array(y_pred, ensure_2d=False, dtype=dtype)\n",
      "C:\\Users\\bever\\anaconda3\\lib\\site-packages\\sklearn\\metrics\\_regression.py:96: FutureWarning: Arrays of bytes/strings is being converted to decimal numbers if dtype='numeric'. This behavior is deprecated in 0.24 and will be removed in 1.1 (renaming of 0.26). Please convert your data to numeric values explicitly instead.\n",
      "  y_pred = check_array(y_pred, ensure_2d=False, dtype=dtype)\n",
      "C:\\Users\\bever\\anaconda3\\lib\\site-packages\\sklearn\\metrics\\_regression.py:96: FutureWarning: Arrays of bytes/strings is being converted to decimal numbers if dtype='numeric'. This behavior is deprecated in 0.24 and will be removed in 1.1 (renaming of 0.26). Please convert your data to numeric values explicitly instead.\n",
      "  y_pred = check_array(y_pred, ensure_2d=False, dtype=dtype)\n",
      "C:\\Users\\bever\\anaconda3\\lib\\site-packages\\sklearn\\metrics\\_regression.py:96: FutureWarning: Arrays of bytes/strings is being converted to decimal numbers if dtype='numeric'. This behavior is deprecated in 0.24 and will be removed in 1.1 (renaming of 0.26). Please convert your data to numeric values explicitly instead.\n",
      "  y_pred = check_array(y_pred, ensure_2d=False, dtype=dtype)\n",
      "C:\\Users\\bever\\anaconda3\\lib\\site-packages\\sklearn\\model_selection\\_split.py:676: UserWarning: The least populated class in y has only 3 members, which is less than n_splits=5.\n",
      "  warnings.warn(\n",
      "C:\\Users\\bever\\anaconda3\\lib\\site-packages\\sklearn\\metrics\\_regression.py:96: FutureWarning: Arrays of bytes/strings is being converted to decimal numbers if dtype='numeric'. This behavior is deprecated in 0.24 and will be removed in 1.1 (renaming of 0.26). Please convert your data to numeric values explicitly instead.\n",
      "  y_pred = check_array(y_pred, ensure_2d=False, dtype=dtype)\n",
      "C:\\Users\\bever\\anaconda3\\lib\\site-packages\\sklearn\\metrics\\_regression.py:96: FutureWarning: Arrays of bytes/strings is being converted to decimal numbers if dtype='numeric'. This behavior is deprecated in 0.24 and will be removed in 1.1 (renaming of 0.26). Please convert your data to numeric values explicitly instead.\n",
      "  y_pred = check_array(y_pred, ensure_2d=False, dtype=dtype)\n",
      "C:\\Users\\bever\\anaconda3\\lib\\site-packages\\sklearn\\metrics\\_regression.py:96: FutureWarning: Arrays of bytes/strings is being converted to decimal numbers if dtype='numeric'. This behavior is deprecated in 0.24 and will be removed in 1.1 (renaming of 0.26). Please convert your data to numeric values explicitly instead.\n",
      "  y_pred = check_array(y_pred, ensure_2d=False, dtype=dtype)\n",
      "C:\\Users\\bever\\anaconda3\\lib\\site-packages\\sklearn\\metrics\\_regression.py:96: FutureWarning: Arrays of bytes/strings is being converted to decimal numbers if dtype='numeric'. This behavior is deprecated in 0.24 and will be removed in 1.1 (renaming of 0.26). Please convert your data to numeric values explicitly instead.\n",
      "  y_pred = check_array(y_pred, ensure_2d=False, dtype=dtype)\n",
      "C:\\Users\\bever\\anaconda3\\lib\\site-packages\\sklearn\\model_selection\\_split.py:676: UserWarning: The least populated class in y has only 1 members, which is less than n_splits=5.\n",
      "  warnings.warn(\n",
      "C:\\Users\\bever\\anaconda3\\lib\\site-packages\\sklearn\\metrics\\_regression.py:96: FutureWarning: Arrays of bytes/strings is being converted to decimal numbers if dtype='numeric'. This behavior is deprecated in 0.24 and will be removed in 1.1 (renaming of 0.26). Please convert your data to numeric values explicitly instead.\n",
      "  y_pred = check_array(y_pred, ensure_2d=False, dtype=dtype)\n",
      "C:\\Users\\bever\\anaconda3\\lib\\site-packages\\sklearn\\metrics\\_regression.py:96: FutureWarning: Arrays of bytes/strings is being converted to decimal numbers if dtype='numeric'. This behavior is deprecated in 0.24 and will be removed in 1.1 (renaming of 0.26). Please convert your data to numeric values explicitly instead.\n",
      "  y_pred = check_array(y_pred, ensure_2d=False, dtype=dtype)\n",
      "C:\\Users\\bever\\anaconda3\\lib\\site-packages\\sklearn\\metrics\\_regression.py:96: FutureWarning: Arrays of bytes/strings is being converted to decimal numbers if dtype='numeric'. This behavior is deprecated in 0.24 and will be removed in 1.1 (renaming of 0.26). Please convert your data to numeric values explicitly instead.\n",
      "  y_pred = check_array(y_pred, ensure_2d=False, dtype=dtype)\n",
      "C:\\Users\\bever\\anaconda3\\lib\\site-packages\\sklearn\\metrics\\_regression.py:96: FutureWarning: Arrays of bytes/strings is being converted to decimal numbers if dtype='numeric'. This behavior is deprecated in 0.24 and will be removed in 1.1 (renaming of 0.26). Please convert your data to numeric values explicitly instead.\n",
      "  y_pred = check_array(y_pred, ensure_2d=False, dtype=dtype)\n"
     ]
    }
   ],
   "source": [
    "# MLP model results for dataset size = 200 data points\n",
    "accuracy_train_200, f1_train_200, r2_train_200, rmse_train_200, accuracy_test_200, f1_test_200, r2_test_200, rmse_test_200 = hyperparam_results(data_model,200,param_grid)"
   ]
  },
  {
   "cell_type": "code",
   "execution_count": 20,
   "id": "e1a798f8",
   "metadata": {},
   "outputs": [
    {
     "name": "stdout",
     "output_type": "stream",
     "text": [
      "[0.78125, 0.825, 0.79375, 0.75]\n",
      "[0.55, 0.625, 0.55, 0.725]\n"
     ]
    }
   ],
   "source": [
    "# training and test accuracy for MLP trained on 200 data points for four different random_state values in train/test split\n",
    "print(accuracy_train_200)\n",
    "print(accuracy_test_200)"
   ]
  },
  {
   "cell_type": "code",
   "execution_count": 21,
   "id": "9e91fd4a",
   "metadata": {},
   "outputs": [
    {
     "name": "stdout",
     "output_type": "stream",
     "text": [
      "[0.47465338891462094, 0.5815991838336704, 0.4662791707776228, 0.3689795015722702]\n",
      "[0.4121594308351524, 0.25236870811905876, 0.24858870967741936, 0.4518518518518519]\n"
     ]
    }
   ],
   "source": [
    "# training and test f1 for MLP trained on 200 data points for four different random_state values in train/test split\n",
    "print(f1_train_200)\n",
    "print(f1_test_200)"
   ]
  },
  {
   "cell_type": "code",
   "execution_count": 22,
   "id": "cc54ceac",
   "metadata": {},
   "outputs": [
    {
     "name": "stdout",
     "output_type": "stream",
     "text": [
      "[0.8364677023712184, 0.8718680156815125, 0.8412035102381947, 0.797005290056487]\n",
      "[0.5845954132410212, 0.8113981139811398, 0.5980369245150736, 0.5997140814867761]\n"
     ]
    }
   ],
   "source": [
    "# training and test r2 for MLP trained on 200 data points for four different random_state values in train/test split\n",
    "print(r2_train_200)\n",
    "print(r2_test_200)"
   ]
  },
  {
   "cell_type": "code",
   "execution_count": 23,
   "id": "820f4ad8",
   "metadata": {},
   "outputs": [
    {
     "name": "stdout",
     "output_type": "stream",
     "text": [
      "[0.203100960115899, 0.16937384685954318, 0.18874586088176873, 0.23035298999578885]\n",
      "[0.23237900077244503, 0.21447610589527216, 0.31104662029991575, 0.17748239349298853]\n"
     ]
    }
   ],
   "source": [
    "# training and test rmse for MLP trained on 200 data points for four different random_state values in train/test split\n",
    "print(rmse_train_200)\n",
    "print(rmse_test_200)"
   ]
  },
  {
   "cell_type": "code",
   "execution_count": 53,
   "id": "e72ab8e9",
   "metadata": {},
   "outputs": [
    {
     "name": "stdout",
     "output_type": "stream",
     "text": [
      "[0.23125 0.2     0.24375 0.025  ]\n",
      "[ 0.06249396  0.32923048  0.21769046 -0.08287235]\n",
      "[0.25187229 0.0604699  0.24316659 0.19729121]\n",
      "[ 0.02927804  0.04510226  0.12230076 -0.0528706 ]\n"
     ]
    }
   ],
   "source": [
    "# train - test accuracy for MLP trained on 200 data points for four different random_state values in train/test split\n",
    "accuracy_diff_200 = np.asarray(accuracy_train_200) - np.asarray(accuracy_test_200)\n",
    "print(accuracy_diff_200)\n",
    "\n",
    "# train - test f1 for MLP trained on 200 data points for four different random_state values in train/test split\n",
    "f1_diff_200 = np.asarray(f1_train_200) - np.asarray(f1_test_200)\n",
    "print(f1_diff_200)\n",
    "\n",
    "# train - test r2 for MLP trained on 200 data points for four different random_state values in train/test split\n",
    "r2_diff_200 = np.asarray(r2_train_200) - np.asarray(r2_test_200)\n",
    "print(r2_diff_200)\n",
    "\n",
    "# test - train rmse for MLP trained on 200 data points for four different random_state values in train/test split\n",
    "rmse_diff_200 = np.asarray(rmse_test_200) - np.asarray(rmse_train_200)\n",
    "print(rmse_diff_200)"
   ]
  },
  {
   "cell_type": "code",
   "execution_count": 24,
   "id": "7292e8f6",
   "metadata": {},
   "outputs": [
    {
     "name": "stderr",
     "output_type": "stream",
     "text": [
      "C:\\Users\\bever\\anaconda3\\lib\\site-packages\\sklearn\\model_selection\\_split.py:676: UserWarning: The least populated class in y has only 1 members, which is less than n_splits=5.\n",
      "  warnings.warn(\n",
      "C:\\Users\\bever\\anaconda3\\lib\\site-packages\\sklearn\\metrics\\_regression.py:96: FutureWarning: Arrays of bytes/strings is being converted to decimal numbers if dtype='numeric'. This behavior is deprecated in 0.24 and will be removed in 1.1 (renaming of 0.26). Please convert your data to numeric values explicitly instead.\n",
      "  y_pred = check_array(y_pred, ensure_2d=False, dtype=dtype)\n",
      "C:\\Users\\bever\\anaconda3\\lib\\site-packages\\sklearn\\metrics\\_regression.py:96: FutureWarning: Arrays of bytes/strings is being converted to decimal numbers if dtype='numeric'. This behavior is deprecated in 0.24 and will be removed in 1.1 (renaming of 0.26). Please convert your data to numeric values explicitly instead.\n",
      "  y_pred = check_array(y_pred, ensure_2d=False, dtype=dtype)\n",
      "C:\\Users\\bever\\anaconda3\\lib\\site-packages\\sklearn\\metrics\\_regression.py:96: FutureWarning: Arrays of bytes/strings is being converted to decimal numbers if dtype='numeric'. This behavior is deprecated in 0.24 and will be removed in 1.1 (renaming of 0.26). Please convert your data to numeric values explicitly instead.\n",
      "  y_pred = check_array(y_pred, ensure_2d=False, dtype=dtype)\n",
      "C:\\Users\\bever\\anaconda3\\lib\\site-packages\\sklearn\\metrics\\_regression.py:96: FutureWarning: Arrays of bytes/strings is being converted to decimal numbers if dtype='numeric'. This behavior is deprecated in 0.24 and will be removed in 1.1 (renaming of 0.26). Please convert your data to numeric values explicitly instead.\n",
      "  y_pred = check_array(y_pred, ensure_2d=False, dtype=dtype)\n",
      "C:\\Users\\bever\\anaconda3\\lib\\site-packages\\sklearn\\model_selection\\_split.py:676: UserWarning: The least populated class in y has only 1 members, which is less than n_splits=5.\n",
      "  warnings.warn(\n",
      "C:\\Users\\bever\\anaconda3\\lib\\site-packages\\sklearn\\metrics\\_regression.py:96: FutureWarning: Arrays of bytes/strings is being converted to decimal numbers if dtype='numeric'. This behavior is deprecated in 0.24 and will be removed in 1.1 (renaming of 0.26). Please convert your data to numeric values explicitly instead.\n",
      "  y_pred = check_array(y_pred, ensure_2d=False, dtype=dtype)\n",
      "C:\\Users\\bever\\anaconda3\\lib\\site-packages\\sklearn\\metrics\\_regression.py:96: FutureWarning: Arrays of bytes/strings is being converted to decimal numbers if dtype='numeric'. This behavior is deprecated in 0.24 and will be removed in 1.1 (renaming of 0.26). Please convert your data to numeric values explicitly instead.\n",
      "  y_pred = check_array(y_pred, ensure_2d=False, dtype=dtype)\n",
      "C:\\Users\\bever\\anaconda3\\lib\\site-packages\\sklearn\\metrics\\_regression.py:96: FutureWarning: Arrays of bytes/strings is being converted to decimal numbers if dtype='numeric'. This behavior is deprecated in 0.24 and will be removed in 1.1 (renaming of 0.26). Please convert your data to numeric values explicitly instead.\n",
      "  y_pred = check_array(y_pred, ensure_2d=False, dtype=dtype)\n",
      "C:\\Users\\bever\\anaconda3\\lib\\site-packages\\sklearn\\metrics\\_regression.py:96: FutureWarning: Arrays of bytes/strings is being converted to decimal numbers if dtype='numeric'. This behavior is deprecated in 0.24 and will be removed in 1.1 (renaming of 0.26). Please convert your data to numeric values explicitly instead.\n",
      "  y_pred = check_array(y_pred, ensure_2d=False, dtype=dtype)\n",
      "C:\\Users\\bever\\anaconda3\\lib\\site-packages\\sklearn\\model_selection\\_split.py:676: UserWarning: The least populated class in y has only 1 members, which is less than n_splits=5.\n",
      "  warnings.warn(\n",
      "C:\\Users\\bever\\anaconda3\\lib\\site-packages\\sklearn\\metrics\\_regression.py:96: FutureWarning: Arrays of bytes/strings is being converted to decimal numbers if dtype='numeric'. This behavior is deprecated in 0.24 and will be removed in 1.1 (renaming of 0.26). Please convert your data to numeric values explicitly instead.\n",
      "  y_pred = check_array(y_pred, ensure_2d=False, dtype=dtype)\n",
      "C:\\Users\\bever\\anaconda3\\lib\\site-packages\\sklearn\\metrics\\_regression.py:96: FutureWarning: Arrays of bytes/strings is being converted to decimal numbers if dtype='numeric'. This behavior is deprecated in 0.24 and will be removed in 1.1 (renaming of 0.26). Please convert your data to numeric values explicitly instead.\n",
      "  y_pred = check_array(y_pred, ensure_2d=False, dtype=dtype)\n",
      "C:\\Users\\bever\\anaconda3\\lib\\site-packages\\sklearn\\metrics\\_regression.py:96: FutureWarning: Arrays of bytes/strings is being converted to decimal numbers if dtype='numeric'. This behavior is deprecated in 0.24 and will be removed in 1.1 (renaming of 0.26). Please convert your data to numeric values explicitly instead.\n",
      "  y_pred = check_array(y_pred, ensure_2d=False, dtype=dtype)\n",
      "C:\\Users\\bever\\anaconda3\\lib\\site-packages\\sklearn\\metrics\\_regression.py:96: FutureWarning: Arrays of bytes/strings is being converted to decimal numbers if dtype='numeric'. This behavior is deprecated in 0.24 and will be removed in 1.1 (renaming of 0.26). Please convert your data to numeric values explicitly instead.\n",
      "  y_pred = check_array(y_pred, ensure_2d=False, dtype=dtype)\n",
      "C:\\Users\\bever\\anaconda3\\lib\\site-packages\\sklearn\\model_selection\\_split.py:676: UserWarning: The least populated class in y has only 1 members, which is less than n_splits=5.\n",
      "  warnings.warn(\n",
      "C:\\Users\\bever\\anaconda3\\lib\\site-packages\\sklearn\\metrics\\_regression.py:96: FutureWarning: Arrays of bytes/strings is being converted to decimal numbers if dtype='numeric'. This behavior is deprecated in 0.24 and will be removed in 1.1 (renaming of 0.26). Please convert your data to numeric values explicitly instead.\n",
      "  y_pred = check_array(y_pred, ensure_2d=False, dtype=dtype)\n",
      "C:\\Users\\bever\\anaconda3\\lib\\site-packages\\sklearn\\metrics\\_regression.py:96: FutureWarning: Arrays of bytes/strings is being converted to decimal numbers if dtype='numeric'. This behavior is deprecated in 0.24 and will be removed in 1.1 (renaming of 0.26). Please convert your data to numeric values explicitly instead.\n",
      "  y_pred = check_array(y_pred, ensure_2d=False, dtype=dtype)\n",
      "C:\\Users\\bever\\anaconda3\\lib\\site-packages\\sklearn\\metrics\\_regression.py:96: FutureWarning: Arrays of bytes/strings is being converted to decimal numbers if dtype='numeric'. This behavior is deprecated in 0.24 and will be removed in 1.1 (renaming of 0.26). Please convert your data to numeric values explicitly instead.\n",
      "  y_pred = check_array(y_pred, ensure_2d=False, dtype=dtype)\n",
      "C:\\Users\\bever\\anaconda3\\lib\\site-packages\\sklearn\\metrics\\_regression.py:96: FutureWarning: Arrays of bytes/strings is being converted to decimal numbers if dtype='numeric'. This behavior is deprecated in 0.24 and will be removed in 1.1 (renaming of 0.26). Please convert your data to numeric values explicitly instead.\n",
      "  y_pred = check_array(y_pred, ensure_2d=False, dtype=dtype)\n"
     ]
    }
   ],
   "source": [
    "# MLP model results for dataset size = 250 data points\n",
    "accuracy_train_250, f1_train_250, r2_train_250, rmse_train_250, accuracy_test_250, f1_test_250, r2_test_250, rmse_test_250 = hyperparam_results(data_model,250,param_grid)"
   ]
  },
  {
   "cell_type": "code",
   "execution_count": 25,
   "id": "76910967",
   "metadata": {},
   "outputs": [
    {
     "name": "stdout",
     "output_type": "stream",
     "text": [
      "[0.735, 0.805, 0.725, 0.835]\n",
      "[0.6, 0.64, 0.54, 0.68]\n"
     ]
    }
   ],
   "source": [
    "# training and test accuracy for MLP trained on 250 data points for four different random_state values in train/test split\n",
    "print(accuracy_train_250)\n",
    "print(accuracy_test_250)"
   ]
  },
  {
   "cell_type": "code",
   "execution_count": 26,
   "id": "5990d31d",
   "metadata": {},
   "outputs": [
    {
     "name": "stdout",
     "output_type": "stream",
     "text": [
      "[0.35741307749880924, 0.5212046055796056, 0.27333253702818916, 0.5537234474233498]\n",
      "[0.2275081595004967, 0.31063988095238093, 0.2883838383838384, 0.2891158826118176]\n"
     ]
    }
   ],
   "source": [
    "# training and test f1 for MLP trained on 250 data points for four different random_state values in train/test split\n",
    "print(f1_train_250)\n",
    "print(f1_test_250)"
   ]
  },
  {
   "cell_type": "code",
   "execution_count": 27,
   "id": "0cd71e72",
   "metadata": {},
   "outputs": [
    {
     "name": "stdout",
     "output_type": "stream",
     "text": [
      "[0.5472445169997943, 0.7720139327476987, 0.5955365967851012, 0.873037039138638]\n",
      "[0.3958463484130492, 0.7580645161290323, 0.6171967020023557, 0.6175658532945304]\n"
     ]
    }
   ],
   "source": [
    "# training and test r2 for MLP trained on 250 data points for four different random_state values in train/test split\n",
    "print(r2_train_250)\n",
    "print(r2_test_250)"
   ]
  },
  {
   "cell_type": "code",
   "execution_count": 28,
   "id": "96991d12",
   "metadata": {},
   "outputs": [
    {
     "name": "stdout",
     "output_type": "stream",
     "text": [
      "[0.2994160984315973, 0.21828879952943073, 0.3054504869860252, 0.1638596960817394]\n",
      "[0.3982461550347975, 0.23237900077244503, 0.21633307652783934, 0.286356421265527]\n"
     ]
    }
   ],
   "source": [
    "# training and test rmse for MLP trained on 250 data points for four different random_state values in train/test split\n",
    "print(rmse_train_250)\n",
    "print(rmse_test_250)"
   ]
  },
  {
   "cell_type": "code",
   "execution_count": 52,
   "id": "62af0bd3",
   "metadata": {},
   "outputs": [
    {
     "name": "stdout",
     "output_type": "stream",
     "text": [
      "[0.135 0.165 0.185 0.155]\n",
      "[ 0.12990492  0.21056472 -0.0150513   0.26460756]\n",
      "[ 0.15139817  0.01394942 -0.02166011  0.25547119]\n",
      "[ 0.09883006  0.0140902  -0.08911741  0.12249673]\n"
     ]
    }
   ],
   "source": [
    "# train - test accuracy for MLP trained on 250 data points for four different random_state values in train/test split\n",
    "accuracy_diff_250 = np.asarray(accuracy_train_250) - np.asarray(accuracy_test_250)\n",
    "print(accuracy_diff_250)\n",
    "\n",
    "# train - test f1 for MLP trained on 250 data points for four different random_state values in train/test split\n",
    "f1_diff_250 = np.asarray(f1_train_250) - np.asarray(f1_test_250)\n",
    "print(f1_diff_250)\n",
    "\n",
    "# train - test r2 for MLP trained on 250 data points for four different random_state values in train/test split\n",
    "r2_diff_250 = np.asarray(r2_train_250) - np.asarray(r2_test_250)\n",
    "print(r2_diff_250)\n",
    "\n",
    "# test - train rmse for MLP trained on 250 data points for four different random_state values in train/test split\n",
    "rmse_diff_250 = np.asarray(rmse_test_250) - np.asarray(rmse_train_250)\n",
    "print(rmse_diff_250)"
   ]
  },
  {
   "cell_type": "code",
   "execution_count": 29,
   "id": "6e5d254b",
   "metadata": {},
   "outputs": [
    {
     "name": "stderr",
     "output_type": "stream",
     "text": [
      "C:\\Users\\bever\\anaconda3\\lib\\site-packages\\sklearn\\model_selection\\_split.py:676: UserWarning: The least populated class in y has only 2 members, which is less than n_splits=5.\n",
      "  warnings.warn(\n",
      "C:\\Users\\bever\\anaconda3\\lib\\site-packages\\sklearn\\metrics\\_regression.py:96: FutureWarning: Arrays of bytes/strings is being converted to decimal numbers if dtype='numeric'. This behavior is deprecated in 0.24 and will be removed in 1.1 (renaming of 0.26). Please convert your data to numeric values explicitly instead.\n",
      "  y_pred = check_array(y_pred, ensure_2d=False, dtype=dtype)\n",
      "C:\\Users\\bever\\anaconda3\\lib\\site-packages\\sklearn\\metrics\\_regression.py:96: FutureWarning: Arrays of bytes/strings is being converted to decimal numbers if dtype='numeric'. This behavior is deprecated in 0.24 and will be removed in 1.1 (renaming of 0.26). Please convert your data to numeric values explicitly instead.\n",
      "  y_pred = check_array(y_pred, ensure_2d=False, dtype=dtype)\n",
      "C:\\Users\\bever\\anaconda3\\lib\\site-packages\\sklearn\\metrics\\_regression.py:96: FutureWarning: Arrays of bytes/strings is being converted to decimal numbers if dtype='numeric'. This behavior is deprecated in 0.24 and will be removed in 1.1 (renaming of 0.26). Please convert your data to numeric values explicitly instead.\n",
      "  y_pred = check_array(y_pred, ensure_2d=False, dtype=dtype)\n",
      "C:\\Users\\bever\\anaconda3\\lib\\site-packages\\sklearn\\metrics\\_regression.py:96: FutureWarning: Arrays of bytes/strings is being converted to decimal numbers if dtype='numeric'. This behavior is deprecated in 0.24 and will be removed in 1.1 (renaming of 0.26). Please convert your data to numeric values explicitly instead.\n",
      "  y_pred = check_array(y_pred, ensure_2d=False, dtype=dtype)\n",
      "C:\\Users\\bever\\anaconda3\\lib\\site-packages\\sklearn\\model_selection\\_split.py:676: UserWarning: The least populated class in y has only 2 members, which is less than n_splits=5.\n",
      "  warnings.warn(\n",
      "C:\\Users\\bever\\anaconda3\\lib\\site-packages\\sklearn\\metrics\\_regression.py:96: FutureWarning: Arrays of bytes/strings is being converted to decimal numbers if dtype='numeric'. This behavior is deprecated in 0.24 and will be removed in 1.1 (renaming of 0.26). Please convert your data to numeric values explicitly instead.\n",
      "  y_pred = check_array(y_pred, ensure_2d=False, dtype=dtype)\n",
      "C:\\Users\\bever\\anaconda3\\lib\\site-packages\\sklearn\\metrics\\_regression.py:96: FutureWarning: Arrays of bytes/strings is being converted to decimal numbers if dtype='numeric'. This behavior is deprecated in 0.24 and will be removed in 1.1 (renaming of 0.26). Please convert your data to numeric values explicitly instead.\n",
      "  y_pred = check_array(y_pred, ensure_2d=False, dtype=dtype)\n",
      "C:\\Users\\bever\\anaconda3\\lib\\site-packages\\sklearn\\metrics\\_regression.py:96: FutureWarning: Arrays of bytes/strings is being converted to decimal numbers if dtype='numeric'. This behavior is deprecated in 0.24 and will be removed in 1.1 (renaming of 0.26). Please convert your data to numeric values explicitly instead.\n",
      "  y_pred = check_array(y_pred, ensure_2d=False, dtype=dtype)\n",
      "C:\\Users\\bever\\anaconda3\\lib\\site-packages\\sklearn\\metrics\\_regression.py:96: FutureWarning: Arrays of bytes/strings is being converted to decimal numbers if dtype='numeric'. This behavior is deprecated in 0.24 and will be removed in 1.1 (renaming of 0.26). Please convert your data to numeric values explicitly instead.\n",
      "  y_pred = check_array(y_pred, ensure_2d=False, dtype=dtype)\n",
      "C:\\Users\\bever\\anaconda3\\lib\\site-packages\\sklearn\\model_selection\\_split.py:676: UserWarning: The least populated class in y has only 1 members, which is less than n_splits=5.\n",
      "  warnings.warn(\n",
      "C:\\Users\\bever\\anaconda3\\lib\\site-packages\\sklearn\\metrics\\_regression.py:96: FutureWarning: Arrays of bytes/strings is being converted to decimal numbers if dtype='numeric'. This behavior is deprecated in 0.24 and will be removed in 1.1 (renaming of 0.26). Please convert your data to numeric values explicitly instead.\n",
      "  y_pred = check_array(y_pred, ensure_2d=False, dtype=dtype)\n",
      "C:\\Users\\bever\\anaconda3\\lib\\site-packages\\sklearn\\metrics\\_regression.py:96: FutureWarning: Arrays of bytes/strings is being converted to decimal numbers if dtype='numeric'. This behavior is deprecated in 0.24 and will be removed in 1.1 (renaming of 0.26). Please convert your data to numeric values explicitly instead.\n",
      "  y_pred = check_array(y_pred, ensure_2d=False, dtype=dtype)\n",
      "C:\\Users\\bever\\anaconda3\\lib\\site-packages\\sklearn\\metrics\\_regression.py:96: FutureWarning: Arrays of bytes/strings is being converted to decimal numbers if dtype='numeric'. This behavior is deprecated in 0.24 and will be removed in 1.1 (renaming of 0.26). Please convert your data to numeric values explicitly instead.\n",
      "  y_pred = check_array(y_pred, ensure_2d=False, dtype=dtype)\n",
      "C:\\Users\\bever\\anaconda3\\lib\\site-packages\\sklearn\\metrics\\_regression.py:96: FutureWarning: Arrays of bytes/strings is being converted to decimal numbers if dtype='numeric'. This behavior is deprecated in 0.24 and will be removed in 1.1 (renaming of 0.26). Please convert your data to numeric values explicitly instead.\n",
      "  y_pred = check_array(y_pred, ensure_2d=False, dtype=dtype)\n",
      "C:\\Users\\bever\\anaconda3\\lib\\site-packages\\sklearn\\model_selection\\_split.py:676: UserWarning: The least populated class in y has only 2 members, which is less than n_splits=5.\n",
      "  warnings.warn(\n",
      "C:\\Users\\bever\\anaconda3\\lib\\site-packages\\sklearn\\metrics\\_regression.py:96: FutureWarning: Arrays of bytes/strings is being converted to decimal numbers if dtype='numeric'. This behavior is deprecated in 0.24 and will be removed in 1.1 (renaming of 0.26). Please convert your data to numeric values explicitly instead.\n",
      "  y_pred = check_array(y_pred, ensure_2d=False, dtype=dtype)\n",
      "C:\\Users\\bever\\anaconda3\\lib\\site-packages\\sklearn\\metrics\\_regression.py:96: FutureWarning: Arrays of bytes/strings is being converted to decimal numbers if dtype='numeric'. This behavior is deprecated in 0.24 and will be removed in 1.1 (renaming of 0.26). Please convert your data to numeric values explicitly instead.\n",
      "  y_pred = check_array(y_pred, ensure_2d=False, dtype=dtype)\n",
      "C:\\Users\\bever\\anaconda3\\lib\\site-packages\\sklearn\\metrics\\_regression.py:96: FutureWarning: Arrays of bytes/strings is being converted to decimal numbers if dtype='numeric'. This behavior is deprecated in 0.24 and will be removed in 1.1 (renaming of 0.26). Please convert your data to numeric values explicitly instead.\n",
      "  y_pred = check_array(y_pred, ensure_2d=False, dtype=dtype)\n",
      "C:\\Users\\bever\\anaconda3\\lib\\site-packages\\sklearn\\metrics\\_regression.py:96: FutureWarning: Arrays of bytes/strings is being converted to decimal numbers if dtype='numeric'. This behavior is deprecated in 0.24 and will be removed in 1.1 (renaming of 0.26). Please convert your data to numeric values explicitly instead.\n",
      "  y_pred = check_array(y_pred, ensure_2d=False, dtype=dtype)\n"
     ]
    }
   ],
   "source": [
    "# MLP model results for dataset size = 750 data points\n",
    "accuracy_train_750, f1_train_750, r2_train_750, rmse_train_750, accuracy_test_750, f1_test_750, r2_test_750, rmse_test_750 = hyperparam_results(data_model,750,param_grid)"
   ]
  },
  {
   "cell_type": "code",
   "execution_count": 30,
   "id": "559fe8f5",
   "metadata": {},
   "outputs": [
    {
     "name": "stdout",
     "output_type": "stream",
     "text": [
      "[0.87, 0.91, 0.9266666666666666, 0.9133333333333333]\n",
      "[0.8733333333333333, 0.86, 0.8866666666666667, 0.8666666666666667]\n"
     ]
    }
   ],
   "source": [
    "# training and test accuracy for MLP trained on 750 data points for four different random_state values in train/test split\n",
    "print(accuracy_train_750)\n",
    "print(accuracy_test_750)"
   ]
  },
  {
   "cell_type": "code",
   "execution_count": 31,
   "id": "89c667c0",
   "metadata": {},
   "outputs": [
    {
     "name": "stdout",
     "output_type": "stream",
     "text": [
      "[0.6153132959073898, 0.6365934449085269, 0.630473993818772, 0.6832370958887254]\n",
      "[0.7280659808381582, 0.61178646707102, 0.5631666327499661, 0.6806412623803928]\n"
     ]
    }
   ],
   "source": [
    "# training and test f1 for MLP trained on 750 data points for four different random_state values in train/test split\n",
    "print(f1_train_750)\n",
    "print(f1_test_750)"
   ]
  },
  {
   "cell_type": "code",
   "execution_count": 32,
   "id": "d34b409b",
   "metadata": {},
   "outputs": [
    {
     "name": "stdout",
     "output_type": "stream",
     "text": [
      "[0.9031036116813602, 0.9269196069582256, 0.9530446375625198, 0.9379319122375837]\n",
      "[0.932373467197836, 0.9201680553952033, 0.9531572222613637, 0.936633997972288]\n"
     ]
    }
   ],
   "source": [
    "# training and test r2 for MLP trained on 750 data points for four different random_state values in train/test split\n",
    "print(r2_train_750)\n",
    "print(r2_test_750)"
   ]
  },
  {
   "cell_type": "code",
   "execution_count": 33,
   "id": "4079c51f",
   "metadata": {},
   "outputs": [
    {
     "name": "stdout",
     "output_type": "stream",
     "text": [
      "[0.1379613472438325, 0.12055427546683416, 0.09165151389911678, 0.1089342309224546]\n",
      "[0.1067707825203131, 0.11224972160321824, 0.10456258094238749, 0.10954451150103323]\n"
     ]
    }
   ],
   "source": [
    "# training and test rmse for MLP trained on 750 data points for four different random_state values in train/test split\n",
    "print(rmse_train_750)\n",
    "print(rmse_test_750)"
   ]
  },
  {
   "cell_type": "code",
   "execution_count": 54,
   "id": "1d8550fe",
   "metadata": {},
   "outputs": [
    {
     "name": "stdout",
     "output_type": "stream",
     "text": [
      "[-0.00333333  0.05        0.04        0.04666667]\n",
      "[-0.11275268  0.02480698  0.06730736  0.00259583]\n",
      "[-0.02926986  0.00675155 -0.00011258  0.00129791]\n",
      "[-0.03119056 -0.00830455  0.01291107  0.00061028]\n"
     ]
    }
   ],
   "source": [
    "# train - test accuracy for MLP trained on 750 data points for four different random_state values in train/test split\n",
    "accuracy_diff_750 = np.asarray(accuracy_train_750) - np.asarray(accuracy_test_750)\n",
    "print(accuracy_diff_750)\n",
    "\n",
    "# train - test f1 for MLP trained on 750 data points for four different random_state values in train/test split\n",
    "f1_diff_750 = np.asarray(f1_train_750) - np.asarray(f1_test_750)\n",
    "print(f1_diff_750)\n",
    "\n",
    "# train - test r2 for MLP trained on 750 data points for four different random_state values in train/test split\n",
    "r2_diff_750 = np.asarray(r2_train_750) - np.asarray(r2_test_750)\n",
    "print(r2_diff_750)\n",
    "\n",
    "# test - train rmse for MLP trained on 750 data points for four different random_state values in train/test split\n",
    "rmse_diff_750 = np.asarray(rmse_test_750) - np.asarray(rmse_train_750)\n",
    "print(rmse_diff_750)"
   ]
  },
  {
   "cell_type": "code",
   "execution_count": 34,
   "id": "245c711f",
   "metadata": {},
   "outputs": [
    {
     "name": "stderr",
     "output_type": "stream",
     "text": [
      "C:\\Users\\bever\\anaconda3\\lib\\site-packages\\sklearn\\metrics\\_regression.py:96: FutureWarning: Arrays of bytes/strings is being converted to decimal numbers if dtype='numeric'. This behavior is deprecated in 0.24 and will be removed in 1.1 (renaming of 0.26). Please convert your data to numeric values explicitly instead.\n",
      "  y_pred = check_array(y_pred, ensure_2d=False, dtype=dtype)\n",
      "C:\\Users\\bever\\anaconda3\\lib\\site-packages\\sklearn\\metrics\\_regression.py:96: FutureWarning: Arrays of bytes/strings is being converted to decimal numbers if dtype='numeric'. This behavior is deprecated in 0.24 and will be removed in 1.1 (renaming of 0.26). Please convert your data to numeric values explicitly instead.\n",
      "  y_pred = check_array(y_pred, ensure_2d=False, dtype=dtype)\n",
      "C:\\Users\\bever\\anaconda3\\lib\\site-packages\\sklearn\\metrics\\_regression.py:96: FutureWarning: Arrays of bytes/strings is being converted to decimal numbers if dtype='numeric'. This behavior is deprecated in 0.24 and will be removed in 1.1 (renaming of 0.26). Please convert your data to numeric values explicitly instead.\n",
      "  y_pred = check_array(y_pred, ensure_2d=False, dtype=dtype)\n",
      "C:\\Users\\bever\\anaconda3\\lib\\site-packages\\sklearn\\metrics\\_regression.py:96: FutureWarning: Arrays of bytes/strings is being converted to decimal numbers if dtype='numeric'. This behavior is deprecated in 0.24 and will be removed in 1.1 (renaming of 0.26). Please convert your data to numeric values explicitly instead.\n",
      "  y_pred = check_array(y_pred, ensure_2d=False, dtype=dtype)\n",
      "C:\\Users\\bever\\anaconda3\\lib\\site-packages\\sklearn\\metrics\\_regression.py:96: FutureWarning: Arrays of bytes/strings is being converted to decimal numbers if dtype='numeric'. This behavior is deprecated in 0.24 and will be removed in 1.1 (renaming of 0.26). Please convert your data to numeric values explicitly instead.\n",
      "  y_pred = check_array(y_pred, ensure_2d=False, dtype=dtype)\n",
      "C:\\Users\\bever\\anaconda3\\lib\\site-packages\\sklearn\\metrics\\_regression.py:96: FutureWarning: Arrays of bytes/strings is being converted to decimal numbers if dtype='numeric'. This behavior is deprecated in 0.24 and will be removed in 1.1 (renaming of 0.26). Please convert your data to numeric values explicitly instead.\n",
      "  y_pred = check_array(y_pred, ensure_2d=False, dtype=dtype)\n",
      "C:\\Users\\bever\\anaconda3\\lib\\site-packages\\sklearn\\metrics\\_regression.py:96: FutureWarning: Arrays of bytes/strings is being converted to decimal numbers if dtype='numeric'. This behavior is deprecated in 0.24 and will be removed in 1.1 (renaming of 0.26). Please convert your data to numeric values explicitly instead.\n",
      "  y_pred = check_array(y_pred, ensure_2d=False, dtype=dtype)\n",
      "C:\\Users\\bever\\anaconda3\\lib\\site-packages\\sklearn\\metrics\\_regression.py:96: FutureWarning: Arrays of bytes/strings is being converted to decimal numbers if dtype='numeric'. This behavior is deprecated in 0.24 and will be removed in 1.1 (renaming of 0.26). Please convert your data to numeric values explicitly instead.\n",
      "  y_pred = check_array(y_pred, ensure_2d=False, dtype=dtype)\n",
      "C:\\Users\\bever\\anaconda3\\lib\\site-packages\\sklearn\\metrics\\_regression.py:96: FutureWarning: Arrays of bytes/strings is being converted to decimal numbers if dtype='numeric'. This behavior is deprecated in 0.24 and will be removed in 1.1 (renaming of 0.26). Please convert your data to numeric values explicitly instead.\n",
      "  y_pred = check_array(y_pred, ensure_2d=False, dtype=dtype)\n",
      "C:\\Users\\bever\\anaconda3\\lib\\site-packages\\sklearn\\metrics\\_regression.py:96: FutureWarning: Arrays of bytes/strings is being converted to decimal numbers if dtype='numeric'. This behavior is deprecated in 0.24 and will be removed in 1.1 (renaming of 0.26). Please convert your data to numeric values explicitly instead.\n",
      "  y_pred = check_array(y_pred, ensure_2d=False, dtype=dtype)\n",
      "C:\\Users\\bever\\anaconda3\\lib\\site-packages\\sklearn\\metrics\\_regression.py:96: FutureWarning: Arrays of bytes/strings is being converted to decimal numbers if dtype='numeric'. This behavior is deprecated in 0.24 and will be removed in 1.1 (renaming of 0.26). Please convert your data to numeric values explicitly instead.\n",
      "  y_pred = check_array(y_pred, ensure_2d=False, dtype=dtype)\n",
      "C:\\Users\\bever\\anaconda3\\lib\\site-packages\\sklearn\\metrics\\_regression.py:96: FutureWarning: Arrays of bytes/strings is being converted to decimal numbers if dtype='numeric'. This behavior is deprecated in 0.24 and will be removed in 1.1 (renaming of 0.26). Please convert your data to numeric values explicitly instead.\n",
      "  y_pred = check_array(y_pred, ensure_2d=False, dtype=dtype)\n",
      "C:\\Users\\bever\\anaconda3\\lib\\site-packages\\sklearn\\metrics\\_regression.py:96: FutureWarning: Arrays of bytes/strings is being converted to decimal numbers if dtype='numeric'. This behavior is deprecated in 0.24 and will be removed in 1.1 (renaming of 0.26). Please convert your data to numeric values explicitly instead.\n",
      "  y_pred = check_array(y_pred, ensure_2d=False, dtype=dtype)\n",
      "C:\\Users\\bever\\anaconda3\\lib\\site-packages\\sklearn\\metrics\\_regression.py:96: FutureWarning: Arrays of bytes/strings is being converted to decimal numbers if dtype='numeric'. This behavior is deprecated in 0.24 and will be removed in 1.1 (renaming of 0.26). Please convert your data to numeric values explicitly instead.\n",
      "  y_pred = check_array(y_pred, ensure_2d=False, dtype=dtype)\n",
      "C:\\Users\\bever\\anaconda3\\lib\\site-packages\\sklearn\\metrics\\_regression.py:96: FutureWarning: Arrays of bytes/strings is being converted to decimal numbers if dtype='numeric'. This behavior is deprecated in 0.24 and will be removed in 1.1 (renaming of 0.26). Please convert your data to numeric values explicitly instead.\n",
      "  y_pred = check_array(y_pred, ensure_2d=False, dtype=dtype)\n",
      "C:\\Users\\bever\\anaconda3\\lib\\site-packages\\sklearn\\metrics\\_regression.py:96: FutureWarning: Arrays of bytes/strings is being converted to decimal numbers if dtype='numeric'. This behavior is deprecated in 0.24 and will be removed in 1.1 (renaming of 0.26). Please convert your data to numeric values explicitly instead.\n",
      "  y_pred = check_array(y_pred, ensure_2d=False, dtype=dtype)\n"
     ]
    }
   ],
   "source": [
    "# MLP model results for dataset size = 2000 data points\n",
    "accuracy_train_2000, f1_train_2000, r2_train_2000, rmse_train_2000, accuracy_test_2000, f1_test_2000, r2_test_2000, rmse_test_2000 = hyperparam_results(data_model,2000,param_grid)"
   ]
  },
  {
   "cell_type": "code",
   "execution_count": 35,
   "id": "27018e78",
   "metadata": {},
   "outputs": [
    {
     "name": "stdout",
     "output_type": "stream",
     "text": [
      "[0.95125, 0.938125, 0.959375, 0.93125]\n",
      "[0.9025, 0.9, 0.9225, 0.9125]\n"
     ]
    }
   ],
   "source": [
    "# training and test accuracy for MLP trained on 2000 data points for four different random_state values in train/test split\n",
    "print(accuracy_train_2000)\n",
    "print(accuracy_test_2000)"
   ]
  },
  {
   "cell_type": "code",
   "execution_count": 36,
   "id": "dc4d85a9",
   "metadata": {},
   "outputs": [
    {
     "name": "stdout",
     "output_type": "stream",
     "text": [
      "[0.824761759917753, 0.6973564998181045, 0.8071732564346895, 0.6025404636017492]\n",
      "[0.6776275909858499, 0.6514562925259408, 0.7156862717278015, 0.6644690414255633]\n"
     ]
    }
   ],
   "source": [
    "# training and test f1 for MLP trained on 2000 data points for four different random_state values in train/test split\n",
    "print(f1_train_2000)\n",
    "print(f1_test_2000)"
   ]
  },
  {
   "cell_type": "code",
   "execution_count": 37,
   "id": "59c6e65b",
   "metadata": {},
   "outputs": [
    {
     "name": "stdout",
     "output_type": "stream",
     "text": [
      "[0.9674511674407311, 0.9632598928701103, 0.9751324102405783, 0.9289852379650062]\n",
      "[0.9553652095142706, 0.9157389170344312, 0.9510836998658878, 0.9172314177982683]\n"
     ]
    }
   ],
   "source": [
    "# training and test r2 for MLP trained on 2000 data points for four different random_state values in train/test split\n",
    "print(r2_train_2000)\n",
    "print(r2_test_2000)"
   ]
  },
  {
   "cell_type": "code",
   "execution_count": 38,
   "id": "0bb32d3e",
   "metadata": {},
   "outputs": [
    {
     "name": "stdout",
     "output_type": "stream",
     "text": [
      "[0.07685213074469699, 0.0823862852664204, 0.06832825184358224, 0.11527141883398503]\n",
      "[0.09656603957913983, 0.12845232578665128, 0.09486832980505137, 0.12409673645990854]\n"
     ]
    }
   ],
   "source": [
    "# training and test rmse for MLP trained on 2000 data points for four different random_state values in train/test split\n",
    "print(rmse_train_2000)\n",
    "print(rmse_test_2000)"
   ]
  },
  {
   "cell_type": "code",
   "execution_count": 55,
   "id": "861a92a9",
   "metadata": {},
   "outputs": [
    {
     "name": "stdout",
     "output_type": "stream",
     "text": [
      "[0.04875  0.038125 0.036875 0.01875 ]\n",
      "[ 0.14713417  0.04590021  0.09148698 -0.06192858]\n",
      "[0.01208596 0.04752098 0.02404871 0.01175382]\n",
      "[0.01971391 0.04606604 0.02654008 0.00882532]\n"
     ]
    }
   ],
   "source": [
    "# train - test accuracy for MLP trained on 2000 data points for four different random_state values in train/test split\n",
    "accuracy_diff_2000 = np.asarray(accuracy_train_2000) - np.asarray(accuracy_test_2000)\n",
    "print(accuracy_diff_2000)\n",
    "\n",
    "# train - test f1 for MLP trained on 2000 data points for four different random_state values in train/test split\n",
    "f1_diff_2000 = np.asarray(f1_train_2000) - np.asarray(f1_test_2000)\n",
    "print(f1_diff_2000)\n",
    "\n",
    "# train - test r2 for MLP trained on 2000 data points for four different random_state values in train/test split\n",
    "r2_diff_2000 = np.asarray(r2_train_2000) - np.asarray(r2_test_2000)\n",
    "print(r2_diff_2000)\n",
    "\n",
    "# test - train rmse for MLP trained on 2000 data points for four different random_state values in train/test split\n",
    "rmse_diff_2000 = np.asarray(rmse_test_2000) - np.asarray(rmse_train_2000)\n",
    "print(rmse_diff_2000)"
   ]
  },
  {
   "cell_type": "code",
   "execution_count": null,
   "id": "a10cce61",
   "metadata": {},
   "outputs": [],
   "source": []
  }
 ],
 "metadata": {
  "kernelspec": {
   "display_name": "Python 3 (ipykernel)",
   "language": "python",
   "name": "python3"
  },
  "language_info": {
   "codemirror_mode": {
    "name": "ipython",
    "version": 3
   },
   "file_extension": ".py",
   "mimetype": "text/x-python",
   "name": "python",
   "nbconvert_exporter": "python",
   "pygments_lexer": "ipython3",
   "version": "3.9.13"
  }
 },
 "nbformat": 4,
 "nbformat_minor": 5
}
