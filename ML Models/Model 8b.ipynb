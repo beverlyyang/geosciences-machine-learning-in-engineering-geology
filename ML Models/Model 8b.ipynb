{
 "cells": [
  {
   "cell_type": "markdown",
   "id": "35d74a2a",
   "metadata": {},
   "source": [
    "# Model 8b - MLPClassifier with standardization & hyperparameter tuning (5-fold cross-validation)"
   ]
  },
  {
   "cell_type": "code",
   "execution_count": 1,
   "id": "41bcbded",
   "metadata": {},
   "outputs": [],
   "source": [
    "# import packages\n",
    "import numpy as np\n",
    "import pandas as pd\n",
    "import matplotlib.pyplot as plt\n",
    "import scipy.stats\n",
    "import math\n",
    "import os\n",
    "\n",
    "from sklearn.preprocessing import StandardScaler\n",
    "from sklearn.model_selection import RandomizedSearchCV, train_test_split, cross_validate, GridSearchCV\n",
    "from sklearn.neural_network import MLPClassifier\n",
    "from sklearn.pipeline import make_pipeline\n",
    "from sklearn.metrics import mean_absolute_percentage_error, mean_squared_error, f1_score, r2_score\n",
    "\n",
    "from openpyxl import load_workbook"
   ]
  },
  {
   "cell_type": "code",
   "execution_count": 2,
   "id": "8146d919",
   "metadata": {},
   "outputs": [
    {
     "data": {
      "text/html": [
       "<div>\n",
       "<style scoped>\n",
       "    .dataframe tbody tr th:only-of-type {\n",
       "        vertical-align: middle;\n",
       "    }\n",
       "\n",
       "    .dataframe tbody tr th {\n",
       "        vertical-align: top;\n",
       "    }\n",
       "\n",
       "    .dataframe thead th {\n",
       "        text-align: right;\n",
       "    }\n",
       "</style>\n",
       "<table border=\"1\" class=\"dataframe\">\n",
       "  <thead>\n",
       "    <tr style=\"text-align: right;\">\n",
       "      <th></th>\n",
       "      <th>Wedge ID</th>\n",
       "      <th>Safety Factor</th>\n",
       "      <th>Ln Safety Factor</th>\n",
       "      <th>Safety Factor Class</th>\n",
       "      <th>Safety Factor Class_1</th>\n",
       "      <th>Safety Factor Class_2</th>\n",
       "      <th>Safety Factor Class_3</th>\n",
       "      <th>Wedge Volume (m3)</th>\n",
       "      <th>Wedge Weight (MN)</th>\n",
       "      <th>Plunge Line of Intersection (°)</th>\n",
       "      <th>...</th>\n",
       "      <th>Water Pressure Joint 2 (MPa)</th>\n",
       "      <th>Water Pressure Basal Joint (MPa)</th>\n",
       "      <th>Water Pressure Tension Crack (MPa)</th>\n",
       "      <th>Ponded Water Depth (m)</th>\n",
       "      <th>Seismic Alpha</th>\n",
       "      <th>Seismic Plunge (°)</th>\n",
       "      <th>Seismic Trend (°)</th>\n",
       "      <th>Maximum Persistence Joint 1 (m)</th>\n",
       "      <th>Maximum Persistence Joint 2 (m)</th>\n",
       "      <th>Maximum Persistence Basal Joint (m)</th>\n",
       "    </tr>\n",
       "  </thead>\n",
       "  <tbody>\n",
       "    <tr>\n",
       "      <th>0</th>\n",
       "      <td>BFA 60 [0]</td>\n",
       "      <td>1.082239</td>\n",
       "      <td>0.079032</td>\n",
       "      <td>11.0</td>\n",
       "      <td>6.0</td>\n",
       "      <td>1.05</td>\n",
       "      <td>1.05</td>\n",
       "      <td>6349.248707</td>\n",
       "      <td>171.429715</td>\n",
       "      <td>31.846178</td>\n",
       "      <td>...</td>\n",
       "      <td>NaN</td>\n",
       "      <td>NaN</td>\n",
       "      <td>NaN</td>\n",
       "      <td>NaN</td>\n",
       "      <td>NaN</td>\n",
       "      <td>NaN</td>\n",
       "      <td>NaN</td>\n",
       "      <td>0</td>\n",
       "      <td>0</td>\n",
       "      <td>NaN</td>\n",
       "    </tr>\n",
       "    <tr>\n",
       "      <th>1</th>\n",
       "      <td>BFA 60 [1]</td>\n",
       "      <td>1.203906</td>\n",
       "      <td>0.185571</td>\n",
       "      <td>13.0</td>\n",
       "      <td>7.0</td>\n",
       "      <td>1.35</td>\n",
       "      <td>1.35</td>\n",
       "      <td>7701.148241</td>\n",
       "      <td>207.931003</td>\n",
       "      <td>31.905513</td>\n",
       "      <td>...</td>\n",
       "      <td>NaN</td>\n",
       "      <td>NaN</td>\n",
       "      <td>NaN</td>\n",
       "      <td>NaN</td>\n",
       "      <td>NaN</td>\n",
       "      <td>NaN</td>\n",
       "      <td>NaN</td>\n",
       "      <td>0</td>\n",
       "      <td>0</td>\n",
       "      <td>NaN</td>\n",
       "    </tr>\n",
       "    <tr>\n",
       "      <th>2</th>\n",
       "      <td>BFA 60 [2]</td>\n",
       "      <td>0.896601</td>\n",
       "      <td>-0.109144</td>\n",
       "      <td>9.0</td>\n",
       "      <td>5.0</td>\n",
       "      <td>0.75</td>\n",
       "      <td>0.75</td>\n",
       "      <td>2341.641868</td>\n",
       "      <td>63.224330</td>\n",
       "      <td>36.973415</td>\n",
       "      <td>...</td>\n",
       "      <td>NaN</td>\n",
       "      <td>NaN</td>\n",
       "      <td>NaN</td>\n",
       "      <td>NaN</td>\n",
       "      <td>NaN</td>\n",
       "      <td>NaN</td>\n",
       "      <td>NaN</td>\n",
       "      <td>0</td>\n",
       "      <td>0</td>\n",
       "      <td>NaN</td>\n",
       "    </tr>\n",
       "    <tr>\n",
       "      <th>3</th>\n",
       "      <td>BFA 60 [3]</td>\n",
       "      <td>0.680996</td>\n",
       "      <td>-0.384199</td>\n",
       "      <td>7.0</td>\n",
       "      <td>4.0</td>\n",
       "      <td>0.75</td>\n",
       "      <td>0.75</td>\n",
       "      <td>155.345062</td>\n",
       "      <td>4.194317</td>\n",
       "      <td>54.969435</td>\n",
       "      <td>...</td>\n",
       "      <td>NaN</td>\n",
       "      <td>NaN</td>\n",
       "      <td>NaN</td>\n",
       "      <td>NaN</td>\n",
       "      <td>NaN</td>\n",
       "      <td>NaN</td>\n",
       "      <td>NaN</td>\n",
       "      <td>0</td>\n",
       "      <td>0</td>\n",
       "      <td>NaN</td>\n",
       "    </tr>\n",
       "    <tr>\n",
       "      <th>4</th>\n",
       "      <td>BFA 60 [4]</td>\n",
       "      <td>1.263948</td>\n",
       "      <td>0.234240</td>\n",
       "      <td>13.0</td>\n",
       "      <td>7.0</td>\n",
       "      <td>1.35</td>\n",
       "      <td>1.35</td>\n",
       "      <td>7468.340623</td>\n",
       "      <td>201.645197</td>\n",
       "      <td>29.688564</td>\n",
       "      <td>...</td>\n",
       "      <td>NaN</td>\n",
       "      <td>NaN</td>\n",
       "      <td>NaN</td>\n",
       "      <td>NaN</td>\n",
       "      <td>NaN</td>\n",
       "      <td>NaN</td>\n",
       "      <td>NaN</td>\n",
       "      <td>0</td>\n",
       "      <td>0</td>\n",
       "      <td>NaN</td>\n",
       "    </tr>\n",
       "  </tbody>\n",
       "</table>\n",
       "<p>5 rows × 92 columns</p>\n",
       "</div>"
      ],
      "text/plain": [
       "     Wedge ID  Safety Factor  Ln Safety Factor  Safety Factor Class  \\\n",
       "0  BFA 60 [0]       1.082239          0.079032                 11.0   \n",
       "1  BFA 60 [1]       1.203906          0.185571                 13.0   \n",
       "2  BFA 60 [2]       0.896601         -0.109144                  9.0   \n",
       "3  BFA 60 [3]       0.680996         -0.384199                  7.0   \n",
       "4  BFA 60 [4]       1.263948          0.234240                 13.0   \n",
       "\n",
       "   Safety Factor Class_1  Safety Factor Class_2  Safety Factor Class_3  \\\n",
       "0                    6.0                   1.05                   1.05   \n",
       "1                    7.0                   1.35                   1.35   \n",
       "2                    5.0                   0.75                   0.75   \n",
       "3                    4.0                   0.75                   0.75   \n",
       "4                    7.0                   1.35                   1.35   \n",
       "\n",
       "   Wedge Volume (m3)  Wedge Weight (MN)  Plunge Line of Intersection (°)  ...  \\\n",
       "0        6349.248707         171.429715                        31.846178  ...   \n",
       "1        7701.148241         207.931003                        31.905513  ...   \n",
       "2        2341.641868          63.224330                        36.973415  ...   \n",
       "3         155.345062           4.194317                        54.969435  ...   \n",
       "4        7468.340623         201.645197                        29.688564  ...   \n",
       "\n",
       "   Water Pressure Joint 2 (MPa)  Water Pressure Basal Joint (MPa)  \\\n",
       "0                           NaN                               NaN   \n",
       "1                           NaN                               NaN   \n",
       "2                           NaN                               NaN   \n",
       "3                           NaN                               NaN   \n",
       "4                           NaN                               NaN   \n",
       "\n",
       "   Water Pressure Tension Crack (MPa)  Ponded Water Depth (m)  Seismic Alpha  \\\n",
       "0                                 NaN                     NaN            NaN   \n",
       "1                                 NaN                     NaN            NaN   \n",
       "2                                 NaN                     NaN            NaN   \n",
       "3                                 NaN                     NaN            NaN   \n",
       "4                                 NaN                     NaN            NaN   \n",
       "\n",
       "   Seismic Plunge (°)  Seismic Trend (°)  Maximum Persistence Joint 1 (m)  \\\n",
       "0                 NaN                NaN                                0   \n",
       "1                 NaN                NaN                                0   \n",
       "2                 NaN                NaN                                0   \n",
       "3                 NaN                NaN                                0   \n",
       "4                 NaN                NaN                                0   \n",
       "\n",
       "   Maximum Persistence Joint 2 (m)  Maximum Persistence Basal Joint (m)  \n",
       "0                                0                                  NaN  \n",
       "1                                0                                  NaN  \n",
       "2                                0                                  NaN  \n",
       "3                                0                                  NaN  \n",
       "4                                0                                  NaN  \n",
       "\n",
       "[5 rows x 92 columns]"
      ]
     },
     "execution_count": 2,
     "metadata": {},
     "output_type": "execute_result"
    }
   ],
   "source": [
    "# get data\n",
    "parentdir = os.path.dirname(os.getcwd())\n",
    "data = pd.read_excel(parentdir+'\\\\Data\\\\SWedge Results.xlsx',sheet_name = \"Probabilistic Values\", engine='openpyxl')\n",
    "data.head()"
   ]
  },
  {
   "cell_type": "code",
   "execution_count": 3,
   "id": "d6103321",
   "metadata": {},
   "outputs": [
    {
     "name": "stdout",
     "output_type": "stream",
     "text": [
      "(5000, 92)\n"
     ]
    }
   ],
   "source": [
    "print(np.shape(data))"
   ]
  },
  {
   "cell_type": "code",
   "execution_count": 4,
   "id": "d63b116c",
   "metadata": {},
   "outputs": [
    {
     "name": "stdout",
     "output_type": "stream",
     "text": [
      "(5000, 10)\n"
     ]
    },
    {
     "data": {
      "text/html": [
       "<div>\n",
       "<style scoped>\n",
       "    .dataframe tbody tr th:only-of-type {\n",
       "        vertical-align: middle;\n",
       "    }\n",
       "\n",
       "    .dataframe tbody tr th {\n",
       "        vertical-align: top;\n",
       "    }\n",
       "\n",
       "    .dataframe thead th {\n",
       "        text-align: right;\n",
       "    }\n",
       "</style>\n",
       "<table border=\"1\" class=\"dataframe\">\n",
       "  <thead>\n",
       "    <tr style=\"text-align: right;\">\n",
       "      <th></th>\n",
       "      <th>Safety Factor</th>\n",
       "      <th>Safety Factor Class_2</th>\n",
       "      <th>Dip of Joint 1 (°)</th>\n",
       "      <th>Dip Direction of Joint 1 (°)</th>\n",
       "      <th>Dip of Joint 2 (°)</th>\n",
       "      <th>Dip Direction of Joint 2 (°)</th>\n",
       "      <th>Dip of Slope (°)</th>\n",
       "      <th>Dip Direction of Slope (°)</th>\n",
       "      <th>Friction Angle of Joint 1 (°)</th>\n",
       "      <th>Friction Angle of Joint 2 (°)</th>\n",
       "    </tr>\n",
       "  </thead>\n",
       "  <tbody>\n",
       "    <tr>\n",
       "      <th>0</th>\n",
       "      <td>1.082239</td>\n",
       "      <td>1.05</td>\n",
       "      <td>39.265808</td>\n",
       "      <td>120.865923</td>\n",
       "      <td>51.646228</td>\n",
       "      <td>221.979277</td>\n",
       "      <td>58.840543</td>\n",
       "      <td>182.626968</td>\n",
       "      <td>29.567773</td>\n",
       "      <td>29.522638</td>\n",
       "    </tr>\n",
       "    <tr>\n",
       "      <th>1</th>\n",
       "      <td>1.203906</td>\n",
       "      <td>1.35</td>\n",
       "      <td>38.981309</td>\n",
       "      <td>128.836961</td>\n",
       "      <td>57.766382</td>\n",
       "      <td>235.428421</td>\n",
       "      <td>63.804918</td>\n",
       "      <td>181.820235</td>\n",
       "      <td>32.713619</td>\n",
       "      <td>29.079492</td>\n",
       "    </tr>\n",
       "    <tr>\n",
       "      <th>2</th>\n",
       "      <td>0.896601</td>\n",
       "      <td>0.75</td>\n",
       "      <td>42.032968</td>\n",
       "      <td>117.504566</td>\n",
       "      <td>62.427355</td>\n",
       "      <td>217.726775</td>\n",
       "      <td>58.134485</td>\n",
       "      <td>180.398207</td>\n",
       "      <td>29.660213</td>\n",
       "      <td>27.455866</td>\n",
       "    </tr>\n",
       "    <tr>\n",
       "      <th>3</th>\n",
       "      <td>0.680996</td>\n",
       "      <td>0.75</td>\n",
       "      <td>69.264568</td>\n",
       "      <td>137.906910</td>\n",
       "      <td>66.183726</td>\n",
       "      <td>246.195109</td>\n",
       "      <td>61.968796</td>\n",
       "      <td>182.439496</td>\n",
       "      <td>30.866657</td>\n",
       "      <td>34.401616</td>\n",
       "    </tr>\n",
       "    <tr>\n",
       "      <th>4</th>\n",
       "      <td>1.263948</td>\n",
       "      <td>1.35</td>\n",
       "      <td>46.728166</td>\n",
       "      <td>121.226945</td>\n",
       "      <td>50.803809</td>\n",
       "      <td>241.060589</td>\n",
       "      <td>60.832522</td>\n",
       "      <td>179.091174</td>\n",
       "      <td>28.789453</td>\n",
       "      <td>28.613525</td>\n",
       "    </tr>\n",
       "  </tbody>\n",
       "</table>\n",
       "</div>"
      ],
      "text/plain": [
       "   Safety Factor  Safety Factor Class_2  Dip of Joint 1 (°)  \\\n",
       "0       1.082239                   1.05           39.265808   \n",
       "1       1.203906                   1.35           38.981309   \n",
       "2       0.896601                   0.75           42.032968   \n",
       "3       0.680996                   0.75           69.264568   \n",
       "4       1.263948                   1.35           46.728166   \n",
       "\n",
       "   Dip Direction of Joint 1 (°)  Dip of Joint 2 (°)  \\\n",
       "0                    120.865923           51.646228   \n",
       "1                    128.836961           57.766382   \n",
       "2                    117.504566           62.427355   \n",
       "3                    137.906910           66.183726   \n",
       "4                    121.226945           50.803809   \n",
       "\n",
       "   Dip Direction of Joint 2 (°)  Dip of Slope (°)  Dip Direction of Slope (°)  \\\n",
       "0                    221.979277         58.840543                  182.626968   \n",
       "1                    235.428421         63.804918                  181.820235   \n",
       "2                    217.726775         58.134485                  180.398207   \n",
       "3                    246.195109         61.968796                  182.439496   \n",
       "4                    241.060589         60.832522                  179.091174   \n",
       "\n",
       "   Friction Angle of Joint 1 (°)  Friction Angle of Joint 2 (°)  \n",
       "0                      29.567773                      29.522638  \n",
       "1                      32.713619                      29.079492  \n",
       "2                      29.660213                      27.455866  \n",
       "3                      30.866657                      34.401616  \n",
       "4                      28.789453                      28.613525  "
      ]
     },
     "execution_count": 4,
     "metadata": {},
     "output_type": "execute_result"
    }
   ],
   "source": [
    "# get data specifically for the modelling (i.e., the inputs and output)\n",
    "data_model = data[[\"Safety Factor\",\"Safety Factor Class_2\",\"Dip of Joint 1 (°)\",\"Dip Direction of Joint 1 (°)\",\"Dip of Joint 2 (°)\",\"Dip Direction of Joint 2 (°)\",\"Dip of Slope (°)\",\"Dip Direction of Slope (°)\",\"Friction Angle of Joint 1 (°)\",\"Friction Angle of Joint 2 (°)\"]]\n",
    "print(np.shape(data_model))\n",
    "data_model.head()"
   ]
  },
  {
   "cell_type": "code",
   "execution_count": 5,
   "id": "0cae351b",
   "metadata": {},
   "outputs": [
    {
     "name": "stdout",
     "output_type": "stream",
     "text": [
      "(4992, 10)\n"
     ]
    }
   ],
   "source": [
    "# remove any realizations that are not kinematically possible and any duplicates\n",
    "data_model =  data_model.dropna()\n",
    "data_model = data_model.drop_duplicates()\n",
    "print(np.shape(data_model))"
   ]
  },
  {
   "cell_type": "code",
   "execution_count": 6,
   "id": "cf8ca463",
   "metadata": {},
   "outputs": [],
   "source": [
    "data_model['Safety Factor Class_2'] = data_model['Safety Factor Class_2'].apply(str)"
   ]
  },
  {
   "cell_type": "markdown",
   "id": "6f792917",
   "metadata": {},
   "source": [
    "### Hyperparameter tuning"
   ]
  },
  {
   "cell_type": "code",
   "execution_count": 7,
   "id": "71fcf46c",
   "metadata": {},
   "outputs": [
    {
     "name": "stdout",
     "output_type": "stream",
     "text": [
      "{'mlpclassifier__hidden_layer_sizes': [(10,), (15,), (20,), (10, 10), (15, 10), (20, 10)], 'mlpclassifier__activation': ['tanh', 'relu'], 'mlpclassifier__solver': ['sgd', 'adam'], 'mlpclassifier__alpha': [0.0001, 0.001, 0.01, 0.1, 1], 'mlpclassifier__learning_rate_init': [0.001, 0.01, 0.1], 'mlpclassifier__max_iter': [200, 500]}\n"
     ]
    }
   ],
   "source": [
    "# hyperparameter grid for MLPClassifier\n",
    "# number of neurons in hidden layer(s)\n",
    "# note: 1 hidden layer - > (x,), 2 hidden layers -> (x,y), 3 hidden layers -> (x,y,z), etc\n",
    "hidden_layer_sizes = [(10,),(15,),(20,),(10,10),(15,10),(20,10)]\n",
    "\n",
    "# activation function for hidden layer\n",
    "activation = ['tanh','relu']\n",
    "\n",
    "# solver for weight optimization\n",
    "solver = ['sgd','adam']\n",
    "\n",
    "# alpha (strength of L2 regularization term)\n",
    "# https://scikit-learn.org/stable/auto_examples/neural_networks/plot_mlp_alpha.html\n",
    "alpha = [0.0001,0.001,0.01,0.1,1]\n",
    "\n",
    "# initial learning rate\n",
    "learning_rate_init = [0.001,0.01,0.1]\n",
    "\n",
    "# maximum number of iterations\n",
    "max_iter = [200,500]\n",
    "\n",
    "\n",
    "# create the random grid\n",
    "param_grid = {'mlpclassifier__hidden_layer_sizes': hidden_layer_sizes,\n",
    "              'mlpclassifier__activation': activation,\n",
    "              'mlpclassifier__solver': solver,\n",
    "              'mlpclassifier__alpha': alpha,\n",
    "              'mlpclassifier__learning_rate_init': learning_rate_init,\n",
    "              'mlpclassifier__max_iter': max_iter}\n",
    "\n",
    "print(param_grid)"
   ]
  },
  {
   "cell_type": "code",
   "execution_count": 8,
   "id": "07d1ea35",
   "metadata": {},
   "outputs": [],
   "source": [
    "# random_state=123, early_stopping=True, validation_fraction=0.2\n",
    "\n",
    "# function to get train & test R2 and RMSE for specified dataset size where hyperparameter tuning was performed\n",
    "def hyperparam_results(data, dataset_size, param_grid):\n",
    "    random_state_val = [0,1,42,123]\n",
    "    param_grid = param_grid\n",
    "    \n",
    "    accuracy_train_subsample_list = []\n",
    "    f1_train_subsample_list = []\n",
    "    accuracy_test_subsample_list = []\n",
    "    f1_test_subsample_list = []\n",
    "\n",
    "    r2_train_subsample_list = []\n",
    "    r2_test_subsample_list = []\n",
    "    rmse_train_subsample_list = []\n",
    "    rmse_test_subsample_list = []\n",
    "\n",
    "\n",
    "    for x in range(0,4):\n",
    "        # get subsample of data\n",
    "        data_subsample = data_model.sample(n = dataset_size,random_state = 1)\n",
    "\n",
    "        # train/test split with different random_state values (0, 1, 42, and 123)\n",
    "        train_subsample, test_subsample = train_test_split(data_subsample, test_size=0.2, random_state=random_state_val[x])\n",
    "\n",
    "        x_train_subsample = train_subsample[[\"Dip of Joint 1 (°)\",\"Dip Direction of Joint 1 (°)\",\"Dip of Joint 2 (°)\",\"Dip Direction of Joint 2 (°)\",\"Dip of Slope (°)\",\"Dip Direction of Slope (°)\",\"Friction Angle of Joint 1 (°)\",\"Friction Angle of Joint 2 (°)\"]]\n",
    "        y_train_subsample = train_subsample[[\"Safety Factor Class_2\"]]\n",
    "        y_train_subsample = np.ravel(y_train_subsample)\n",
    "        y_train_regr = train_subsample[[\"Safety Factor\"]]\n",
    "        y_train_regr = np.ravel(y_train_regr)\n",
    "        \n",
    "        x_test_subsample = test_subsample[[\"Dip of Joint 1 (°)\",\"Dip Direction of Joint 1 (°)\",\"Dip of Joint 2 (°)\",\"Dip Direction of Joint 2 (°)\",\"Dip of Slope (°)\",\"Dip Direction of Slope (°)\",\"Friction Angle of Joint 1 (°)\",\"Friction Angle of Joint 2 (°)\"]]\n",
    "        y_test_subsample = test_subsample[[\"Safety Factor Class_2\"]]\n",
    "        y_test_subsample = np.ravel(y_test_subsample)\n",
    "        y_test_regr = test_subsample[[\"Safety Factor\"]]\n",
    "        y_test_regr = np.ravel(y_test_regr)\n",
    "\n",
    "        # train mlp model with hyperparameter tuning (5-fold cross-validation w/ randomized search)\n",
    "        # make pipeline for mlp with pre-processing (standardizing the data)\n",
    "        pipe_mlp = make_pipeline(StandardScaler(), MLPClassifier(random_state = 123,early_stopping=True,validation_fraction=0.2))\n",
    "        random_search = RandomizedSearchCV(estimator=pipe_mlp, param_distributions=param_grid,n_iter=100, n_jobs=-1,cv=5,random_state=123)\n",
    "\n",
    "        random_search.fit(x_train_subsample, y_train_subsample)\n",
    "        \n",
    "        ypred_mlp = random_search.predict(x_train_subsample)\n",
    "        ypred_mlp = np.reshape(ypred_mlp,(len(ypred_mlp),1))\n",
    "        \n",
    "        ypred_mlp = np.asarray(np.ravel(ypred_mlp))\n",
    "        ypred_mlp_float = ypred_mlp.astype(float)\n",
    "\n",
    "        # training accuracy, f1, r2, and rmse\n",
    "        accuracy_train_subsample = random_search.score(x_train_subsample,y_train_subsample)\n",
    "        f1_train_subsample = f1_score(y_train_subsample,ypred_mlp,average='macro')\n",
    "\n",
    "        # pseudo-regression (compare with actual value i.e., y_train_regr)\n",
    "        r2_train_subsample = r2_score(y_train_regr,ypred_mlp_float)\n",
    "        rmse_train_subsample = math.sqrt(mean_squared_error(y_train_regr,ypred_mlp_float))\n",
    "        \n",
    "        # append training accuracy, f1, r2, and rmse to their respective lists\n",
    "        accuracy_train_subsample_list.append(accuracy_train_subsample)\n",
    "        f1_train_subsample_list.append(f1_train_subsample)\n",
    "       \n",
    "        r2_train_subsample_list.append(r2_train_subsample)\n",
    "        rmse_train_subsample_list.append(rmse_train_subsample)\n",
    "    \n",
    "        # test the tuned mlp model\n",
    "        # predict y test\n",
    "        ypred_test_mlp = random_search.predict(x_test_subsample)\n",
    "        ypred_test_mlp = np.reshape(ypred_test_mlp,(len(ypred_test_mlp),1))\n",
    "        \n",
    "        ypred_test_mlp = np.asarray(np.ravel(ypred_test_mlp))\n",
    "        ypred_test_mlp_float = ypred_test_mlp.astype(float)\n",
    "\n",
    "        # test accuracy, f1, r2, and rmse\n",
    "        accuracy_test_subsample = random_search.score(x_test_subsample,y_test_subsample)\n",
    "        f1_test_subsample = f1_score(y_test_subsample,ypred_test_mlp,average='macro')\n",
    "\n",
    "        # pseudo-regression (compare with actual value i.e., y_test_regr)\n",
    "        r2_test_subsample = r2_score(y_test_regr,ypred_test_mlp_float)\n",
    "        rmse_test_subsample = math.sqrt(mean_squared_error(y_test_regr,ypred_test_mlp_float))\n",
    "        \n",
    "        # append test accuracy, f1, r2, and rmse to their respective lists\n",
    "        accuracy_test_subsample_list.append(accuracy_test_subsample)\n",
    "        f1_test_subsample_list.append(f1_test_subsample)\n",
    "        \n",
    "        r2_test_subsample_list.append(r2_test_subsample)\n",
    "        rmse_test_subsample_list.append(rmse_test_subsample)\n",
    "        \n",
    "    return accuracy_train_subsample_list, f1_train_subsample_list, r2_train_subsample_list, rmse_train_subsample_list, accuracy_test_subsample_list, f1_test_subsample_list, r2_test_subsample_list, rmse_test_subsample_list\n",
    "    "
   ]
  },
  {
   "cell_type": "code",
   "execution_count": 9,
   "id": "fa1e1cca",
   "metadata": {},
   "outputs": [
    {
     "name": "stderr",
     "output_type": "stream",
     "text": [
      "C:\\Users\\bever\\anaconda3\\lib\\site-packages\\sklearn\\model_selection\\_split.py:676: UserWarning: The least populated class in y has only 1 members, which is less than n_splits=5.\n",
      "  warnings.warn(\n",
      "C:\\Users\\bever\\anaconda3\\lib\\site-packages\\sklearn\\model_selection\\_split.py:676: UserWarning: The least populated class in y has only 2 members, which is less than n_splits=5.\n",
      "  warnings.warn(\n",
      "C:\\Users\\bever\\anaconda3\\lib\\site-packages\\sklearn\\model_selection\\_split.py:676: UserWarning: The least populated class in y has only 1 members, which is less than n_splits=5.\n",
      "  warnings.warn(\n",
      "C:\\Users\\bever\\anaconda3\\lib\\site-packages\\sklearn\\model_selection\\_split.py:676: UserWarning: The least populated class in y has only 2 members, which is less than n_splits=5.\n",
      "  warnings.warn(\n"
     ]
    }
   ],
   "source": [
    "# MLP model results for dataset size = 100 data points\n",
    "accuracy_train_100, f1_train_100, r2_train_100, rmse_train_100, accuracy_test_100, f1_test_100, r2_test_100, rmse_test_100 = hyperparam_results(data_model,100,param_grid)"
   ]
  },
  {
   "cell_type": "code",
   "execution_count": 10,
   "id": "519f0d8b",
   "metadata": {},
   "outputs": [
    {
     "name": "stdout",
     "output_type": "stream",
     "text": [
      "[0.8125, 0.825, 0.95, 0.9]\n",
      "[0.45, 0.5, 0.4, 0.55]\n"
     ]
    }
   ],
   "source": [
    "# training and test accuracy for MLP trained on 100 data points for four different random_state values in train/test split\n",
    "print(accuracy_train_100)\n",
    "print(accuracy_test_100)"
   ]
  },
  {
   "cell_type": "code",
   "execution_count": 11,
   "id": "08e967f0",
   "metadata": {},
   "outputs": [
    {
     "name": "stdout",
     "output_type": "stream",
     "text": [
      "[0.5420677502310155, 0.6410880785880786, 0.7944698510114331, 0.6969327491504911]\n",
      "[0.18727106227106227, 0.21036106750392464, 0.20476190476190473, 0.3068783068783069]\n"
     ]
    }
   ],
   "source": [
    "# training and test f1 for MLP trained on 100 data points for four different random_state values in train/test split\n",
    "print(f1_train_100)\n",
    "print(f1_test_100)"
   ]
  },
  {
   "cell_type": "code",
   "execution_count": 12,
   "id": "27d9716d",
   "metadata": {},
   "outputs": [
    {
     "name": "stdout",
     "output_type": "stream",
     "text": [
      "[0.2120658951095975, 0.33304160095674074, 0.11668673569739607, 0.3541425517895398]\n",
      "[0.2978687714729469, 0.03456543351328567, 0.3913809138840727, 0.6692524985102211]\n"
     ]
    }
   ],
   "source": [
    "# training and test r2 for MLP trained on 100 data points for four different random_state values in train/test split\n",
    "print(r2_train_100)\n",
    "print(r2_test_100)"
   ]
  },
  {
   "cell_type": "code",
   "execution_count": 13,
   "id": "caec0184",
   "metadata": {},
   "outputs": [
    {
     "name": "stdout",
     "output_type": "stream",
     "text": [
      "[1.169699130057668, 1.0964819007128974, 1.257761005550985, 1.0820791151498201]\n",
      "[0.565409196621737, 0.4242449580075721, 0.38802945260653465, 0.2250151772709672]\n"
     ]
    }
   ],
   "source": [
    "# training and test rmse for MLP trained on 100 data points for four different random_state values in train/test split\n",
    "print(rmse_train_100)\n",
    "print(rmse_test_100)"
   ]
  },
  {
   "cell_type": "code",
   "execution_count": 14,
   "id": "47becdd6",
   "metadata": {},
   "outputs": [
    {
     "data": {
      "text/plain": [
       "array([0.3625, 0.325 , 0.55  , 0.35  ])"
      ]
     },
     "execution_count": 14,
     "metadata": {},
     "output_type": "execute_result"
    }
   ],
   "source": [
    "# train - test accuracy for MLP trained on 100 data points for four different random_state values in train/test split\n",
    "accuracy_diff_100 = np.asarray(accuracy_train_100) - np.asarray(accuracy_test_100)\n",
    "accuracy_diff_100"
   ]
  },
  {
   "cell_type": "code",
   "execution_count": 15,
   "id": "f90e447f",
   "metadata": {},
   "outputs": [
    {
     "data": {
      "text/plain": [
       "array([0.35479669, 0.43072701, 0.58970795, 0.39005444])"
      ]
     },
     "execution_count": 15,
     "metadata": {},
     "output_type": "execute_result"
    }
   ],
   "source": [
    "# train - test f1 for MLP trained on 100 data points for four different random_state values in train/test split\n",
    "f1_diff_100 = np.asarray(f1_train_100) - np.asarray(f1_test_100)\n",
    "f1_diff_100"
   ]
  },
  {
   "cell_type": "code",
   "execution_count": 16,
   "id": "6f210eaa",
   "metadata": {},
   "outputs": [
    {
     "data": {
      "text/plain": [
       "array([-0.08580288,  0.29847617, -0.27469418, -0.31510995])"
      ]
     },
     "execution_count": 16,
     "metadata": {},
     "output_type": "execute_result"
    }
   ],
   "source": [
    "# train - test r2 for MLP trained on 100 data points for four different random_state values in train/test split\n",
    "r2_diff_100 = np.asarray(r2_train_100) - np.asarray(r2_test_100)\n",
    "r2_diff_100"
   ]
  },
  {
   "cell_type": "code",
   "execution_count": 17,
   "id": "8271290e",
   "metadata": {},
   "outputs": [
    {
     "data": {
      "text/plain": [
       "array([-0.60428993, -0.67223694, -0.86973155, -0.85706394])"
      ]
     },
     "execution_count": 17,
     "metadata": {},
     "output_type": "execute_result"
    }
   ],
   "source": [
    "# test - train rmse for MLP trained on 100 data points for four different random_state values in train/test split\n",
    "rmse_diff_100 = np.asarray(rmse_test_100) - np.asarray(rmse_train_100)\n",
    "rmse_diff_100"
   ]
  },
  {
   "cell_type": "code",
   "execution_count": 18,
   "id": "73c02a31",
   "metadata": {},
   "outputs": [
    {
     "name": "stderr",
     "output_type": "stream",
     "text": [
      "C:\\Users\\bever\\anaconda3\\lib\\site-packages\\sklearn\\model_selection\\_split.py:676: UserWarning: The least populated class in y has only 1 members, which is less than n_splits=5.\n",
      "  warnings.warn(\n",
      "C:\\Users\\bever\\anaconda3\\lib\\site-packages\\sklearn\\model_selection\\_split.py:676: UserWarning: The least populated class in y has only 1 members, which is less than n_splits=5.\n",
      "  warnings.warn(\n",
      "C:\\Users\\bever\\anaconda3\\lib\\site-packages\\sklearn\\model_selection\\_split.py:676: UserWarning: The least populated class in y has only 1 members, which is less than n_splits=5.\n",
      "  warnings.warn(\n",
      "C:\\Users\\bever\\anaconda3\\lib\\site-packages\\sklearn\\model_selection\\_split.py:676: UserWarning: The least populated class in y has only 2 members, which is less than n_splits=5.\n",
      "  warnings.warn(\n"
     ]
    }
   ],
   "source": [
    "# MLP model results for dataset size = 150 data points\n",
    "accuracy_train_150, f1_train_150, r2_train_150, rmse_train_150, accuracy_test_150, f1_test_150, r2_test_150, rmse_test_150 = hyperparam_results(data_model,150,param_grid)"
   ]
  },
  {
   "cell_type": "code",
   "execution_count": 19,
   "id": "a94b8316",
   "metadata": {},
   "outputs": [
    {
     "name": "stdout",
     "output_type": "stream",
     "text": [
      "[0.8333333333333334, 0.9, 0.775, 0.9583333333333334]\n",
      "[0.5666666666666667, 0.4666666666666667, 0.6, 0.7]\n"
     ]
    }
   ],
   "source": [
    "# training and test accuracy for MLP trained on 150 data points for four different random_state values in train/test split\n",
    "print(accuracy_train_150)\n",
    "print(accuracy_test_150)"
   ]
  },
  {
   "cell_type": "code",
   "execution_count": 20,
   "id": "fdc52a3a",
   "metadata": {},
   "outputs": [
    {
     "name": "stdout",
     "output_type": "stream",
     "text": [
      "[0.4681241411252576, 0.5533387445887445, 0.4307005494505494, 0.84158141304993]\n",
      "[0.27308006535947715, 0.38936839557957575, 0.3384615384615385, 0.4313840155945419]\n"
     ]
    }
   ],
   "source": [
    "# training and test f1 for MLP trained on 150 data points for four different random_state values in train/test split\n",
    "print(f1_train_150)\n",
    "print(f1_test_150)"
   ]
  },
  {
   "cell_type": "code",
   "execution_count": 21,
   "id": "1bbfb615",
   "metadata": {},
   "outputs": [
    {
     "name": "stdout",
     "output_type": "stream",
     "text": [
      "[0.16142362453125791, 0.29312123312776317, 0.6374004881292118, 0.4160078694617573]\n",
      "[0.44475838059332606, 0.8051201103542172, 0.07279361579955423, 0.650448485443785]\n"
     ]
    }
   ],
   "source": [
    "# training and test r2 for MLP trained on 150 data points for four different random_state values in train/test split\n",
    "print(r2_train_150)\n",
    "print(r2_test_150)"
   ]
  },
  {
   "cell_type": "code",
   "execution_count": 22,
   "id": "db681563",
   "metadata": {},
   "outputs": [
    {
     "name": "stdout",
     "output_type": "stream",
     "text": [
      "[1.0095659297732924, 0.9618700796634159, 0.29576470861873944, 0.8769249556438409]\n",
      "[0.5333144741106971, 0.16445282686877985, 1.9973232851522682, 0.1778520925757154]\n"
     ]
    }
   ],
   "source": [
    "# training and test rmse for MLP trained on 150 data points for four different random_state values in train/test split\n",
    "print(rmse_train_150)\n",
    "print(rmse_test_150)"
   ]
  },
  {
   "cell_type": "code",
   "execution_count": 23,
   "id": "75c0d97a",
   "metadata": {},
   "outputs": [
    {
     "data": {
      "text/plain": [
       "array([0.26666667, 0.43333333, 0.175     , 0.25833333])"
      ]
     },
     "execution_count": 23,
     "metadata": {},
     "output_type": "execute_result"
    }
   ],
   "source": [
    "# train - test accuracy for MLP trained on 150 data points for four different random_state values in train/test split\n",
    "accuracy_diff_150 = np.asarray(accuracy_train_150) - np.asarray(accuracy_test_150)\n",
    "accuracy_diff_150"
   ]
  },
  {
   "cell_type": "code",
   "execution_count": 24,
   "id": "2cbccd8f",
   "metadata": {},
   "outputs": [
    {
     "data": {
      "text/plain": [
       "array([0.19504408, 0.16397035, 0.09223901, 0.4101974 ])"
      ]
     },
     "execution_count": 24,
     "metadata": {},
     "output_type": "execute_result"
    }
   ],
   "source": [
    "# train - test f1 for MLP trained on 150 data points for four different random_state values in train/test split\n",
    "f1_diff_150 = np.asarray(f1_train_150) - np.asarray(f1_test_150)\n",
    "f1_diff_150"
   ]
  },
  {
   "cell_type": "code",
   "execution_count": 25,
   "id": "7c3552d1",
   "metadata": {},
   "outputs": [
    {
     "data": {
      "text/plain": [
       "array([-0.28333476, -0.51199888,  0.56460687, -0.23444062])"
      ]
     },
     "execution_count": 25,
     "metadata": {},
     "output_type": "execute_result"
    }
   ],
   "source": [
    "# train - test r2 for MLP trained on 150 data points for four different random_state values in train/test split\n",
    "r2_diff_150 = np.asarray(r2_train_150) - np.asarray(r2_test_150)\n",
    "r2_diff_150"
   ]
  },
  {
   "cell_type": "code",
   "execution_count": 26,
   "id": "40a1a434",
   "metadata": {},
   "outputs": [
    {
     "data": {
      "text/plain": [
       "array([-0.47625146, -0.79741725,  1.70155858, -0.69907286])"
      ]
     },
     "execution_count": 26,
     "metadata": {},
     "output_type": "execute_result"
    }
   ],
   "source": [
    "# test - train rmse for MLP trained on 150 data points for four different random_state values in train/test split\n",
    "rmse_diff_150 = np.asarray(rmse_test_150) - np.asarray(rmse_train_150)\n",
    "rmse_diff_150"
   ]
  },
  {
   "cell_type": "code",
   "execution_count": 27,
   "id": "cd73f42f",
   "metadata": {},
   "outputs": [
    {
     "name": "stderr",
     "output_type": "stream",
     "text": [
      "C:\\Users\\bever\\anaconda3\\lib\\site-packages\\sklearn\\model_selection\\_split.py:676: UserWarning: The least populated class in y has only 1 members, which is less than n_splits=5.\n",
      "  warnings.warn(\n",
      "C:\\Users\\bever\\anaconda3\\lib\\site-packages\\sklearn\\model_selection\\_split.py:676: UserWarning: The least populated class in y has only 1 members, which is less than n_splits=5.\n",
      "  warnings.warn(\n",
      "C:\\Users\\bever\\anaconda3\\lib\\site-packages\\sklearn\\model_selection\\_split.py:676: UserWarning: The least populated class in y has only 3 members, which is less than n_splits=5.\n",
      "  warnings.warn(\n",
      "C:\\Users\\bever\\anaconda3\\lib\\site-packages\\sklearn\\model_selection\\_split.py:676: UserWarning: The least populated class in y has only 1 members, which is less than n_splits=5.\n",
      "  warnings.warn(\n"
     ]
    }
   ],
   "source": [
    "# MLP model results for dataset size = 200 data points\n",
    "accuracy_train_200, f1_train_200, r2_train_200, rmse_train_200, accuracy_test_200, f1_test_200, r2_test_200, rmse_test_200 = hyperparam_results(data_model,200,param_grid)"
   ]
  },
  {
   "cell_type": "code",
   "execution_count": 28,
   "id": "e1a798f8",
   "metadata": {},
   "outputs": [
    {
     "name": "stdout",
     "output_type": "stream",
     "text": [
      "[0.78125, 0.825, 0.79375, 0.75]\n",
      "[0.55, 0.625, 0.55, 0.725]\n"
     ]
    }
   ],
   "source": [
    "# training and test accuracy for MLP trained on 200 data points for four different random_state values in train/test split\n",
    "print(accuracy_train_200)\n",
    "print(accuracy_test_200)"
   ]
  },
  {
   "cell_type": "code",
   "execution_count": 29,
   "id": "9e91fd4a",
   "metadata": {},
   "outputs": [
    {
     "name": "stdout",
     "output_type": "stream",
     "text": [
      "[0.47465338891462094, 0.5815991838336704, 0.4662791707776228, 0.3689795015722702]\n",
      "[0.4121594308351524, 0.25236870811905876, 0.24858870967741936, 0.4518518518518519]\n"
     ]
    }
   ],
   "source": [
    "# training and test f1 for MLP trained on 200 data points for four different random_state values in train/test split\n",
    "print(f1_train_200)\n",
    "print(f1_test_200)"
   ]
  },
  {
   "cell_type": "code",
   "execution_count": 30,
   "id": "cc54ceac",
   "metadata": {},
   "outputs": [
    {
     "name": "stdout",
     "output_type": "stream",
     "text": [
      "[0.3162380450079776, 0.411945071538376, 0.30030261178485196, 0.31252484755600174]\n",
      "[0.5578740096622675, 0.8494890408482471, 0.6554242772671843, 0.5991875753742458]\n"
     ]
    }
   ],
   "source": [
    "# training and test r2 for MLP trained on 200 data points for four different random_state values in train/test split\n",
    "print(r2_train_200)\n",
    "print(r2_test_200)"
   ]
  },
  {
   "cell_type": "code",
   "execution_count": 31,
   "id": "820f4ad8",
   "metadata": {},
   "outputs": [
    {
     "name": "stdout",
     "output_type": "stream",
     "text": [
      "[0.8448007111638296, 0.7722392000369038, 0.8424100824822758, 0.8485572411306079]\n",
      "[0.23060231831892627, 0.18900583690233103, 0.2823866753363167, 0.1760982087655691]\n"
     ]
    }
   ],
   "source": [
    "# training and test rmse for MLP trained on 200 data points for four different random_state values in train/test split\n",
    "print(rmse_train_200)\n",
    "print(rmse_test_200)"
   ]
  },
  {
   "cell_type": "code",
   "execution_count": 32,
   "id": "e72ab8e9",
   "metadata": {},
   "outputs": [
    {
     "name": "stdout",
     "output_type": "stream",
     "text": [
      "[0.23125 0.2     0.24375 0.025  ]\n",
      "[ 0.06249396  0.32923048  0.21769046 -0.08287235]\n",
      "[-0.24163596 -0.43754397 -0.35512167 -0.28666273]\n",
      "[-0.61419839 -0.58323336 -0.56002341 -0.67245903]\n"
     ]
    }
   ],
   "source": [
    "# train - test accuracy for MLP trained on 200 data points for four different random_state values in train/test split\n",
    "accuracy_diff_200 = np.asarray(accuracy_train_200) - np.asarray(accuracy_test_200)\n",
    "print(accuracy_diff_200)\n",
    "\n",
    "# train - test f1 for MLP trained on 200 data points for four different random_state values in train/test split\n",
    "f1_diff_200 = np.asarray(f1_train_200) - np.asarray(f1_test_200)\n",
    "print(f1_diff_200)\n",
    "\n",
    "# train - test r2 for MLP trained on 200 data points for four different random_state values in train/test split\n",
    "r2_diff_200 = np.asarray(r2_train_200) - np.asarray(r2_test_200)\n",
    "print(r2_diff_200)\n",
    "\n",
    "# test - train rmse for MLP trained on 200 data points for four different random_state values in train/test split\n",
    "rmse_diff_200 = np.asarray(rmse_test_200) - np.asarray(rmse_train_200)\n",
    "print(rmse_diff_200)"
   ]
  },
  {
   "cell_type": "code",
   "execution_count": 33,
   "id": "7292e8f6",
   "metadata": {},
   "outputs": [
    {
     "name": "stderr",
     "output_type": "stream",
     "text": [
      "C:\\Users\\bever\\anaconda3\\lib\\site-packages\\sklearn\\model_selection\\_split.py:676: UserWarning: The least populated class in y has only 1 members, which is less than n_splits=5.\n",
      "  warnings.warn(\n",
      "C:\\Users\\bever\\anaconda3\\lib\\site-packages\\sklearn\\model_selection\\_split.py:676: UserWarning: The least populated class in y has only 1 members, which is less than n_splits=5.\n",
      "  warnings.warn(\n",
      "C:\\Users\\bever\\anaconda3\\lib\\site-packages\\sklearn\\model_selection\\_split.py:676: UserWarning: The least populated class in y has only 1 members, which is less than n_splits=5.\n",
      "  warnings.warn(\n",
      "C:\\Users\\bever\\anaconda3\\lib\\site-packages\\sklearn\\model_selection\\_split.py:676: UserWarning: The least populated class in y has only 1 members, which is less than n_splits=5.\n",
      "  warnings.warn(\n"
     ]
    }
   ],
   "source": [
    "# MLP model results for dataset size = 250 data points\n",
    "accuracy_train_250, f1_train_250, r2_train_250, rmse_train_250, accuracy_test_250, f1_test_250, r2_test_250, rmse_test_250 = hyperparam_results(data_model,250,param_grid)"
   ]
  },
  {
   "cell_type": "code",
   "execution_count": 34,
   "id": "76910967",
   "metadata": {},
   "outputs": [
    {
     "name": "stdout",
     "output_type": "stream",
     "text": [
      "[0.735, 0.805, 0.725, 0.835]\n",
      "[0.6, 0.64, 0.54, 0.68]\n"
     ]
    }
   ],
   "source": [
    "# training and test accuracy for MLP trained on 250 data points for four different random_state values in train/test split\n",
    "print(accuracy_train_250)\n",
    "print(accuracy_test_250)"
   ]
  },
  {
   "cell_type": "code",
   "execution_count": 35,
   "id": "5990d31d",
   "metadata": {},
   "outputs": [
    {
     "name": "stdout",
     "output_type": "stream",
     "text": [
      "[0.35741307749880924, 0.5212046055796056, 0.27333253702818916, 0.5537234474233498]\n",
      "[0.2275081595004967, 0.31063988095238093, 0.2883838383838384, 0.2891158826118176]\n"
     ]
    }
   ],
   "source": [
    "# training and test f1 for MLP trained on 250 data points for four different random_state values in train/test split\n",
    "print(f1_train_250)\n",
    "print(f1_test_250)"
   ]
  },
  {
   "cell_type": "code",
   "execution_count": 36,
   "id": "0cd71e72",
   "metadata": {},
   "outputs": [
    {
     "name": "stdout",
     "output_type": "stream",
     "text": [
      "[0.4874107679690216, 0.41218527833964835, 0.2003807387449117, 0.42368028225967325]\n",
      "[0.04034429911664417, 0.7809227371887649, 0.6676542643096885, 0.6317517897048427]\n"
     ]
    }
   ],
   "source": [
    "# training and test r2 for MLP trained on 250 data points for four different random_state values in train/test split\n",
    "print(r2_train_250)\n",
    "print(r2_test_250)"
   ]
  },
  {
   "cell_type": "code",
   "execution_count": 37,
   "id": "96991d12",
   "metadata": {},
   "outputs": [
    {
     "name": "stdout",
     "output_type": "stream",
     "text": [
      "[0.3262864197954048, 0.7042384722826881, 0.8305347233465304, 0.6995681476658714]\n",
      "[1.610682042638754, 0.21427131665069563, 0.19613637485906046, 0.26375260614027163]\n"
     ]
    }
   ],
   "source": [
    "# training and test rmse for MLP trained on 250 data points for four different random_state values in train/test split\n",
    "print(rmse_train_250)\n",
    "print(rmse_test_250)"
   ]
  },
  {
   "cell_type": "code",
   "execution_count": 38,
   "id": "62af0bd3",
   "metadata": {},
   "outputs": [
    {
     "name": "stdout",
     "output_type": "stream",
     "text": [
      "[0.135 0.165 0.185 0.155]\n",
      "[ 0.12990492  0.21056472 -0.0150513   0.26460756]\n",
      "[ 0.44706647 -0.36873746 -0.46727353 -0.20807151]\n",
      "[ 1.28439562 -0.48996716 -0.63439835 -0.43581554]\n"
     ]
    }
   ],
   "source": [
    "# train - test accuracy for MLP trained on 250 data points for four different random_state values in train/test split\n",
    "accuracy_diff_250 = np.asarray(accuracy_train_250) - np.asarray(accuracy_test_250)\n",
    "print(accuracy_diff_250)\n",
    "\n",
    "# train - test f1 for MLP trained on 250 data points for four different random_state values in train/test split\n",
    "f1_diff_250 = np.asarray(f1_train_250) - np.asarray(f1_test_250)\n",
    "print(f1_diff_250)\n",
    "\n",
    "# train - test r2 for MLP trained on 250 data points for four different random_state values in train/test split\n",
    "r2_diff_250 = np.asarray(r2_train_250) - np.asarray(r2_test_250)\n",
    "print(r2_diff_250)\n",
    "\n",
    "# test - train rmse for MLP trained on 250 data points for four different random_state values in train/test split\n",
    "rmse_diff_250 = np.asarray(rmse_test_250) - np.asarray(rmse_train_250)\n",
    "print(rmse_diff_250)"
   ]
  },
  {
   "cell_type": "code",
   "execution_count": 39,
   "id": "6e5d254b",
   "metadata": {},
   "outputs": [
    {
     "name": "stderr",
     "output_type": "stream",
     "text": [
      "C:\\Users\\bever\\anaconda3\\lib\\site-packages\\sklearn\\model_selection\\_split.py:676: UserWarning: The least populated class in y has only 2 members, which is less than n_splits=5.\n",
      "  warnings.warn(\n",
      "C:\\Users\\bever\\anaconda3\\lib\\site-packages\\sklearn\\model_selection\\_split.py:676: UserWarning: The least populated class in y has only 2 members, which is less than n_splits=5.\n",
      "  warnings.warn(\n",
      "C:\\Users\\bever\\anaconda3\\lib\\site-packages\\sklearn\\model_selection\\_split.py:676: UserWarning: The least populated class in y has only 1 members, which is less than n_splits=5.\n",
      "  warnings.warn(\n",
      "C:\\Users\\bever\\anaconda3\\lib\\site-packages\\sklearn\\model_selection\\_split.py:676: UserWarning: The least populated class in y has only 2 members, which is less than n_splits=5.\n",
      "  warnings.warn(\n"
     ]
    }
   ],
   "source": [
    "# MLP model results for dataset size = 750 data points\n",
    "accuracy_train_750, f1_train_750, r2_train_750, rmse_train_750, accuracy_test_750, f1_test_750, r2_test_750, rmse_test_750 = hyperparam_results(data_model,750,param_grid)"
   ]
  },
  {
   "cell_type": "code",
   "execution_count": 40,
   "id": "559fe8f5",
   "metadata": {},
   "outputs": [
    {
     "name": "stdout",
     "output_type": "stream",
     "text": [
      "[0.87, 0.91, 0.9266666666666666, 0.9133333333333333]\n",
      "[0.8733333333333333, 0.86, 0.8866666666666667, 0.8666666666666667]\n"
     ]
    }
   ],
   "source": [
    "# training and test accuracy for MLP trained on 750 data points for four different random_state values in train/test split\n",
    "print(accuracy_train_750)\n",
    "print(accuracy_test_750)"
   ]
  },
  {
   "cell_type": "code",
   "execution_count": 41,
   "id": "89c667c0",
   "metadata": {},
   "outputs": [
    {
     "name": "stdout",
     "output_type": "stream",
     "text": [
      "[0.6153132959073898, 0.6365934449085269, 0.630473993818772, 0.6832370958887254]\n",
      "[0.7280659808381582, 0.61178646707102, 0.5631666327499661, 0.6806412623803928]\n"
     ]
    }
   ],
   "source": [
    "# training and test f1 for MLP trained on 750 data points for four different random_state values in train/test split\n",
    "print(f1_train_750)\n",
    "print(f1_test_750)"
   ]
  },
  {
   "cell_type": "code",
   "execution_count": 42,
   "id": "d34b409b",
   "metadata": {},
   "outputs": [
    {
     "name": "stdout",
     "output_type": "stream",
     "text": [
      "[0.8870194439139656, 0.5968538641778821, 0.5847872630689986, 0.8998208568495705]\n",
      "[0.3875574413614641, 0.884408955376615, 0.9207541939147925, 0.41696609227022896]\n"
     ]
    }
   ],
   "source": [
    "# training and test r2 for MLP trained on 750 data points for four different random_state values in train/test split\n",
    "print(r2_train_750)\n",
    "print(r2_test_750)"
   ]
  },
  {
   "cell_type": "code",
   "execution_count": 43,
   "id": "4079c51f",
   "metadata": {},
   "outputs": [
    {
     "name": "stdout",
     "output_type": "stream",
     "text": [
      "[0.15918901023245036, 0.4149537674482491, 0.4109225184336074, 0.14449556835391578]\n",
      "[0.7840751784310942, 0.14910471932741823, 0.1471597361039898, 0.7887987955446003]\n"
     ]
    }
   ],
   "source": [
    "# training and test rmse for MLP trained on 750 data points for four different random_state values in train/test split\n",
    "print(rmse_train_750)\n",
    "print(rmse_test_750)"
   ]
  },
  {
   "cell_type": "code",
   "execution_count": 44,
   "id": "1d8550fe",
   "metadata": {},
   "outputs": [
    {
     "name": "stdout",
     "output_type": "stream",
     "text": [
      "[-0.00333333  0.05        0.04        0.04666667]\n",
      "[-0.11275268  0.02480698  0.06730736  0.00259583]\n",
      "[ 0.499462   -0.28755509 -0.33596693  0.48285476]\n",
      "[ 0.62488617 -0.26584905 -0.26376278  0.64430323]\n"
     ]
    }
   ],
   "source": [
    "# train - test accuracy for MLP trained on 750 data points for four different random_state values in train/test split\n",
    "accuracy_diff_750 = np.asarray(accuracy_train_750) - np.asarray(accuracy_test_750)\n",
    "print(accuracy_diff_750)\n",
    "\n",
    "# train - test f1 for MLP trained on 750 data points for four different random_state values in train/test split\n",
    "f1_diff_750 = np.asarray(f1_train_750) - np.asarray(f1_test_750)\n",
    "print(f1_diff_750)\n",
    "\n",
    "# train - test r2 for MLP trained on 750 data points for four different random_state values in train/test split\n",
    "r2_diff_750 = np.asarray(r2_train_750) - np.asarray(r2_test_750)\n",
    "print(r2_diff_750)\n",
    "\n",
    "# test - train rmse for MLP trained on 750 data points for four different random_state values in train/test split\n",
    "rmse_diff_750 = np.asarray(rmse_test_750) - np.asarray(rmse_train_750)\n",
    "print(rmse_diff_750)"
   ]
  },
  {
   "cell_type": "code",
   "execution_count": 45,
   "id": "245c711f",
   "metadata": {},
   "outputs": [],
   "source": [
    "# MLP model results for dataset size = 2000 data points\n",
    "accuracy_train_2000, f1_train_2000, r2_train_2000, rmse_train_2000, accuracy_test_2000, f1_test_2000, r2_test_2000, rmse_test_2000 = hyperparam_results(data_model,2000,param_grid)"
   ]
  },
  {
   "cell_type": "code",
   "execution_count": 46,
   "id": "27018e78",
   "metadata": {},
   "outputs": [
    {
     "name": "stdout",
     "output_type": "stream",
     "text": [
      "[0.95125, 0.938125, 0.959375, 0.93125]\n",
      "[0.9025, 0.9, 0.9225, 0.9125]\n"
     ]
    }
   ],
   "source": [
    "# training and test accuracy for MLP trained on 2000 data points for four different random_state values in train/test split\n",
    "print(accuracy_train_2000)\n",
    "print(accuracy_test_2000)"
   ]
  },
  {
   "cell_type": "code",
   "execution_count": 47,
   "id": "dc4d85a9",
   "metadata": {},
   "outputs": [
    {
     "name": "stdout",
     "output_type": "stream",
     "text": [
      "[0.824761759917753, 0.6973564998181045, 0.8071732564346895, 0.6025404636017492]\n",
      "[0.6776275909858499, 0.6514562925259408, 0.7156862717278015, 0.6644690414255633]\n"
     ]
    }
   ],
   "source": [
    "# training and test f1 for MLP trained on 2000 data points for four different random_state values in train/test split\n",
    "print(f1_train_2000)\n",
    "print(f1_test_2000)"
   ]
  },
  {
   "cell_type": "code",
   "execution_count": 48,
   "id": "59c6e65b",
   "metadata": {},
   "outputs": [
    {
     "name": "stdout",
     "output_type": "stream",
     "text": [
      "[0.7305349009783579, 0.7226153125307601, 0.7219769808666169, 0.7853792095615689]\n",
      "[0.8171585788735379, 0.8532447222509394, 0.9217845824745224, 0.42879713697474797]\n"
     ]
    }
   ],
   "source": [
    "# training and test r2 for MLP trained on 2000 data points for four different random_state values in train/test split\n",
    "print(r2_train_2000)\n",
    "print(r2_test_2000)"
   ]
  },
  {
   "cell_type": "code",
   "execution_count": 49,
   "id": "0bb32d3e",
   "metadata": {},
   "outputs": [
    {
     "name": "stdout",
     "output_type": "stream",
     "text": [
      "[0.28031217482119547, 0.2923426634748405, 0.2957520336785653, 0.22243179616526523]\n",
      "[0.23415388335780019, 0.18532214203844147, 0.12754552217218693, 0.557624155525232]\n"
     ]
    }
   ],
   "source": [
    "# training and test rmse for MLP trained on 2000 data points for four different random_state values in train/test split\n",
    "print(rmse_train_2000)\n",
    "print(rmse_test_2000)"
   ]
  },
  {
   "cell_type": "code",
   "execution_count": 50,
   "id": "861a92a9",
   "metadata": {},
   "outputs": [
    {
     "name": "stdout",
     "output_type": "stream",
     "text": [
      "[0.04875  0.038125 0.036875 0.01875 ]\n",
      "[ 0.14713417  0.04590021  0.09148698 -0.06192858]\n",
      "[-0.08662368 -0.13062941 -0.1998076   0.35658207]\n",
      "[-0.04615829 -0.10702052 -0.16820651  0.33519236]\n"
     ]
    }
   ],
   "source": [
    "# train - test accuracy for MLP trained on 2000 data points for four different random_state values in train/test split\n",
    "accuracy_diff_2000 = np.asarray(accuracy_train_2000) - np.asarray(accuracy_test_2000)\n",
    "print(accuracy_diff_2000)\n",
    "\n",
    "# train - test f1 for MLP trained on 2000 data points for four different random_state values in train/test split\n",
    "f1_diff_2000 = np.asarray(f1_train_2000) - np.asarray(f1_test_2000)\n",
    "print(f1_diff_2000)\n",
    "\n",
    "# train - test r2 for MLP trained on 2000 data points for four different random_state values in train/test split\n",
    "r2_diff_2000 = np.asarray(r2_train_2000) - np.asarray(r2_test_2000)\n",
    "print(r2_diff_2000)\n",
    "\n",
    "# test - train rmse for MLP trained on 2000 data points for four different random_state values in train/test split\n",
    "rmse_diff_2000 = np.asarray(rmse_test_2000) - np.asarray(rmse_train_2000)\n",
    "print(rmse_diff_2000)"
   ]
  },
  {
   "cell_type": "code",
   "execution_count": null,
   "id": "a10cce61",
   "metadata": {},
   "outputs": [],
   "source": []
  }
 ],
 "metadata": {
  "kernelspec": {
   "display_name": "Python 3 (ipykernel)",
   "language": "python",
   "name": "python3"
  },
  "language_info": {
   "codemirror_mode": {
    "name": "ipython",
    "version": 3
   },
   "file_extension": ".py",
   "mimetype": "text/x-python",
   "name": "python",
   "nbconvert_exporter": "python",
   "pygments_lexer": "ipython3",
   "version": "3.9.13"
  }
 },
 "nbformat": 4,
 "nbformat_minor": 5
}
